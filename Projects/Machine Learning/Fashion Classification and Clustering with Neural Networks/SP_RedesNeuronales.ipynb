{
 "cells": [
  {
   "cell_type": "markdown",
   "metadata": {},
   "source": [
    "# Situación Problema - CNN\n",
    "## Análisis de imágenes de artículos de vestir con aprendizaje profundo\n",
    "\n",
    "Ángel Azahel Ramírez Cabello - A01383328\n",
    "\n",
    "Annette Pamela Ruiz Abreu - A01423595\n",
    "\n",
    "Franco Mendoza Muraira - A01383399\n",
    "\n",
    "\n",
    "Tecnológico de Monterrey, Campus Monterrey\n",
    "\n",
    "TC2035.101 - Diseño de redes neuronales y aprendizaje profundo (Gpo 101)\n",
    "\n",
    "Dr. Santiago Enrique Conant Pablos\n",
    "\n",
    "09 de septiembre de 2023\n",
    "\n"
   ]
  },
  {
   "cell_type": "markdown",
   "metadata": {},
   "source": [
    "## Librerías"
   ]
  },
  {
   "cell_type": "code",
   "execution_count": 4,
   "metadata": {},
   "outputs": [
    {
     "name": "stdout",
     "output_type": "stream",
     "text": [
      "Intel MKL WARNING: Support of Intel(R) Streaming SIMD Extensions 4.2 (Intel(R) SSE4.2) enabled only processors has been deprecated. Intel oneAPI Math Kernel Library 2025.0 will require Intel(R) Advanced Vector Extensions (Intel(R) AVX) instructions.\n",
      "Intel MKL WARNING: Support of Intel(R) Streaming SIMD Extensions 4.2 (Intel(R) SSE4.2) enabled only processors has been deprecated. Intel oneAPI Math Kernel Library 2025.0 will require Intel(R) Advanced Vector Extensions (Intel(R) AVX) instructions.\n"
     ]
    },
    {
     "name": "stderr",
     "output_type": "stream",
     "text": [
      "2023-09-02 20:00:02.874856: I tensorflow/core/platform/cpu_feature_guard.cc:182] This TensorFlow binary is optimized to use available CPU instructions in performance-critical operations.\n",
      "To enable the following instructions: SSE4.1 SSE4.2, in other operations, rebuild TensorFlow with the appropriate compiler flags.\n"
     ]
    }
   ],
   "source": [
    "import pandas as pd\n",
    "import numpy as np\n",
    "import matplotlib.pyplot as plt\n",
    "import tensorflow as tf\n",
    "from tensorflow.keras.datasets import fashion_mnist\n",
    "from tensorflow.keras import layers, optimizers, models\n",
    "import keras\n",
    "import time\n",
    "import sklearn.model_selection as model_selection  \n",
    "from tensorflow.keras.utils import to_categorical\n",
    "from sklearn.metrics import confusion_matrix, classification_report\n"
   ]
  },
  {
   "cell_type": "markdown",
   "metadata": {},
   "source": [
    "## Cargar Datos"
   ]
  },
  {
   "cell_type": "code",
   "execution_count": 81,
   "metadata": {},
   "outputs": [],
   "source": [
    "# Load the Fashion MNIST dataset\n",
    "(train_images_o, train_labels_o), (test_images_o, test_labels_o) = fashion_mnist.load_data()"
   ]
  },
  {
   "cell_type": "markdown",
   "metadata": {},
   "source": [
    "## Exploración de Datos"
   ]
  },
  {
   "cell_type": "code",
   "execution_count": 83,
   "metadata": {},
   "outputs": [
    {
     "name": "stdout",
     "output_type": "stream",
     "text": [
      "Tipo de dato: <class 'numpy.ndarray'>\n",
      "Forma: (60000, 28, 28)\n",
      "Etiquetas: [0 1 2 3 4 5 6 7 8 9]\n",
      "Valor mínimo: 0\n",
      "Valor máximo: 255\n"
     ]
    }
   ],
   "source": [
    "# Datos de entrenamiento\n",
    "print(\"Tipo de dato:\", type(train_images_o))\n",
    "print(\"Forma:\", train_images_o.shape)\n",
    "print(\"Etiquetas:\", np.unique(train_labels_o))\n",
    "print(\"Valor mínimo:\", train_images_o.min())\n",
    "print(\"Valor máximo:\", train_images_o.max())\n",
    "\n"
   ]
  },
  {
   "cell_type": "code",
   "execution_count": 84,
   "metadata": {},
   "outputs": [
    {
     "name": "stdout",
     "output_type": "stream",
     "text": [
      "Tipo de dato: <class 'numpy.ndarray'>\n",
      "Forma: (10000, 28, 28)\n",
      "Etiquetas: [0 1 2 3 4 5 6 7 8 9]\n",
      "Valor mínimo: 0\n",
      "Valor máximo: 255\n"
     ]
    }
   ],
   "source": [
    "# Datos de prueba\n",
    "print(\"Tipo de dato:\", type(test_images_o))\n",
    "print(\"Forma:\", test_images_o.shape)\n",
    "print(\"Etiquetas:\", np.unique(test_labels_o))\n",
    "print(\"Valor mínimo:\", test_images_o.min())\n",
    "print(\"Valor máximo:\", test_images_o.max())\n"
   ]
  },
  {
   "cell_type": "markdown",
   "metadata": {},
   "source": [
    "## Preparación de Datos"
   ]
  },
  {
   "cell_type": "code",
   "execution_count": 85,
   "metadata": {},
   "outputs": [],
   "source": [
    "# Dividimos los valores entre 255 para obtener valores entre 0 y 1\n",
    "\n",
    "train_images = train_images_o / 255\n",
    "test_images = test_images_o / 255\n",
    "\n",
    "# Verificamos que la forma siga siendo igual\n",
    "assert(train_images.shape == train_images_o.shape)\n",
    "assert(test_images.shape == test_images_o.shape)\n",
    "\n"
   ]
  },
  {
   "cell_type": "code",
   "execution_count": 86,
   "metadata": {},
   "outputs": [],
   "source": [
    "# Convertimos las etiquetas de clases en vectores categóricos\n",
    "# Si la cateogoría ers 5, el vector resultante es: [0, 0, 0, 0, 0, 1, 0, 0, 0, 0]\n",
    "\n",
    "num_classes = len(np.unique(train_labels_o))\n",
    "\n",
    "train_labels = keras.utils.to_categorical(train_labels_o, num_classes)\n",
    "test_labels = keras.utils.to_categorical(test_labels_o, num_classes)\n",
    "\n",
    "\n",
    "# Verificamos que la longitud de los vectores sea igual al número de clases\n",
    "assert(len(train_labels[0])==num_classes)\n",
    "assert(len(test_labels[0])==num_classes)\n",
    "\n"
   ]
  },
  {
   "cell_type": "code",
   "execution_count": 87,
   "metadata": {},
   "outputs": [],
   "source": [
    "# Convertimos los datos en arreglos tridimensionales (especificando 1 porque está en escala de grises)\n",
    "\n",
    "train_images = np.expand_dims(train_images, -1)\n",
    "test_images = np.expand_dims(test_images, -1)\n",
    "\n",
    "input_shape = train_images.shape[1:]\n"
   ]
  },
  {
   "cell_type": "markdown",
   "metadata": {},
   "source": [
    "## Construcción del modelo 1"
   ]
  },
  {
   "cell_type": "code",
   "execution_count": 88,
   "metadata": {},
   "outputs": [
    {
     "name": "stdout",
     "output_type": "stream",
     "text": [
      "Model: \"sequential_3\"\n",
      "_________________________________________________________________\n",
      " Layer (type)                Output Shape              Param #   \n",
      "=================================================================\n",
      " conv2d_6 (Conv2D)           (None, 28, 28, 32)        320       \n",
      "                                                                 \n",
      " max_pooling2d_6 (MaxPooling  (None, 14, 14, 32)       0         \n",
      " 2D)                                                             \n",
      "                                                                 \n",
      " conv2d_7 (Conv2D)           (None, 12, 12, 64)        18496     \n",
      "                                                                 \n",
      " max_pooling2d_7 (MaxPooling  (None, 6, 6, 64)         0         \n",
      " 2D)                                                             \n",
      "                                                                 \n",
      " flatten_3 (Flatten)         (None, 2304)              0         \n",
      "                                                                 \n",
      " dropout_3 (Dropout)         (None, 2304)              0         \n",
      "                                                                 \n",
      " dense_3 (Dense)             (None, 10)                23050     \n",
      "                                                                 \n",
      "=================================================================\n",
      "Total params: 41,866\n",
      "Trainable params: 41,866\n",
      "Non-trainable params: 0\n",
      "_________________________________________________________________\n"
     ]
    }
   ],
   "source": [
    "model = keras.Sequential(\n",
    "    [\n",
    "        keras.Input(shape=input_shape),\n",
    "        layers.Conv2D(32, kernel_size=(3, 3), padding='same', activation='tanh'),\n",
    "        layers.MaxPooling2D(pool_size=(2, 2)),\n",
    "        layers.Conv2D(64, kernel_size=(3, 3), activation=\"relu\"),\n",
    "        layers.MaxPooling2D(pool_size=(2, 2)),\n",
    "        layers.Flatten(),\n",
    "        layers.Dropout(0.5),\n",
    "        layers.Dense(num_classes, activation=\"softmax\"),\n",
    "    ]\n",
    ")\n",
    "\n",
    "model.summary()"
   ]
  },
  {
   "cell_type": "markdown",
   "metadata": {},
   "source": [
    "## Entrenamiento Modelo 1"
   ]
  },
  {
   "cell_type": "code",
   "execution_count": 89,
   "metadata": {},
   "outputs": [
    {
     "name": "stdout",
     "output_type": "stream",
     "text": [
      "Epoch 1/15\n",
      "422/422 [==============================] - 68s 156ms/step - loss: 0.6196 - accuracy: 0.7762 - val_loss: 0.4041 - val_accuracy: 0.8530\n",
      "Epoch 2/15\n",
      "422/422 [==============================] - 88s 207ms/step - loss: 0.4179 - accuracy: 0.8516 - val_loss: 0.3602 - val_accuracy: 0.8688\n",
      "Epoch 3/15\n",
      "422/422 [==============================] - 78s 184ms/step - loss: 0.3803 - accuracy: 0.8644 - val_loss: 0.3297 - val_accuracy: 0.8802\n",
      "Epoch 4/15\n",
      "422/422 [==============================] - 69s 165ms/step - loss: 0.3516 - accuracy: 0.8744 - val_loss: 0.3152 - val_accuracy: 0.8823\n",
      "Epoch 5/15\n",
      "422/422 [==============================] - 63s 150ms/step - loss: 0.3354 - accuracy: 0.8806 - val_loss: 0.3005 - val_accuracy: 0.8893\n",
      "Epoch 6/15\n",
      "422/422 [==============================] - 72s 170ms/step - loss: 0.3169 - accuracy: 0.8871 - val_loss: 0.2812 - val_accuracy: 0.8980\n",
      "Epoch 7/15\n",
      "422/422 [==============================] - 76s 181ms/step - loss: 0.3055 - accuracy: 0.8910 - val_loss: 0.2736 - val_accuracy: 0.8988\n",
      "Epoch 8/15\n",
      "422/422 [==============================] - 69s 164ms/step - loss: 0.2930 - accuracy: 0.8939 - val_loss: 0.2607 - val_accuracy: 0.9060\n",
      "Epoch 9/15\n",
      "422/422 [==============================] - 71s 168ms/step - loss: 0.2826 - accuracy: 0.8980 - val_loss: 0.2689 - val_accuracy: 0.9032\n",
      "Epoch 10/15\n",
      "422/422 [==============================] - 61s 143ms/step - loss: 0.2771 - accuracy: 0.9005 - val_loss: 0.2493 - val_accuracy: 0.9110\n",
      "Epoch 11/15\n",
      "422/422 [==============================] - 36s 86ms/step - loss: 0.2684 - accuracy: 0.9023 - val_loss: 0.2490 - val_accuracy: 0.9110\n",
      "Epoch 12/15\n",
      "422/422 [==============================] - 38s 90ms/step - loss: 0.2611 - accuracy: 0.9059 - val_loss: 0.2492 - val_accuracy: 0.9103\n",
      "Epoch 13/15\n",
      "422/422 [==============================] - 42s 99ms/step - loss: 0.2565 - accuracy: 0.9084 - val_loss: 0.2386 - val_accuracy: 0.9115\n",
      "Epoch 14/15\n",
      "422/422 [==============================] - 40s 95ms/step - loss: 0.2513 - accuracy: 0.9082 - val_loss: 0.2448 - val_accuracy: 0.9080\n",
      "Epoch 15/15\n",
      "422/422 [==============================] - 33s 79ms/step - loss: 0.2460 - accuracy: 0.9112 - val_loss: 0.2320 - val_accuracy: 0.9158\n"
     ]
    },
    {
     "data": {
      "text/plain": [
       "<keras.callbacks.History at 0x145970050>"
      ]
     },
     "execution_count": 89,
     "metadata": {},
     "output_type": "execute_result"
    }
   ],
   "source": [
    "batch_size = 128\n",
    "epochs = 15\n",
    "\n",
    "model.compile(loss=\"categorical_crossentropy\", optimizer=\"adam\", metrics=[\"accuracy\"])\n",
    "\n",
    "model.fit(train_images, train_labels, batch_size=batch_size, epochs=epochs, validation_split=0.1)"
   ]
  },
  {
   "cell_type": "markdown",
   "metadata": {},
   "source": [
    "## Evaluación Modelo 1"
   ]
  },
  {
   "cell_type": "code",
   "execution_count": 91,
   "metadata": {},
   "outputs": [
    {
     "name": "stdout",
     "output_type": "stream",
     "text": [
      "Test loss: 0.2516612410545349\n",
      "Test accuracy: 0.911300003528595\n"
     ]
    }
   ],
   "source": [
    "score = model.evaluate(test_images, test_labels, verbose=0)\n",
    "print(\"Test loss:\", score[0])\n",
    "print(\"Test accuracy:\", score[1])"
   ]
  },
  {
   "cell_type": "markdown",
   "metadata": {},
   "source": [
    "## Pruebas con otros modelos"
   ]
  },
  {
   "cell_type": "markdown",
   "metadata": {},
   "source": [
    "### Modelo 2"
   ]
  },
  {
   "cell_type": "code",
   "execution_count": 129,
   "metadata": {},
   "outputs": [],
   "source": [
    "n_epochs = 15\n",
    "n_batch = 80\n",
    "lrate = 0.0000001 "
   ]
  },
  {
   "cell_type": "code",
   "execution_count": 140,
   "metadata": {},
   "outputs": [
    {
     "name": "stdout",
     "output_type": "stream",
     "text": [
      "Model: \"sequential_14\"\n",
      "_________________________________________________________________\n",
      " Layer (type)                Output Shape              Param #   \n",
      "=================================================================\n",
      " conv2d_34 (Conv2D)          (None, 28, 28, 32)        320       \n",
      "                                                                 \n",
      " max_pooling2d_32 (MaxPoolin  (None, 14, 14, 32)       0         \n",
      " g2D)                                                            \n",
      "                                                                 \n",
      " conv2d_35 (Conv2D)          (None, 12, 12, 64)        18496     \n",
      "                                                                 \n",
      " max_pooling2d_33 (MaxPoolin  (None, 6, 6, 64)         0         \n",
      " g2D)                                                            \n",
      "                                                                 \n",
      " conv2d_36 (Conv2D)          (None, 4, 4, 128)         73856     \n",
      "                                                                 \n",
      " flatten_14 (Flatten)        (None, 2048)              0         \n",
      "                                                                 \n",
      " dropout_17 (Dropout)        (None, 2048)              0         \n",
      "                                                                 \n",
      " dense_17 (Dense)            (None, 256)               524544    \n",
      "                                                                 \n",
      " dropout_18 (Dropout)        (None, 256)               0         \n",
      "                                                                 \n",
      " dense_18 (Dense)            (None, 10)                2570      \n",
      "                                                                 \n",
      "=================================================================\n",
      "Total params: 619,786\n",
      "Trainable params: 619,786\n",
      "Non-trainable params: 0\n",
      "_________________________________________________________________\n"
     ]
    }
   ],
   "source": [
    "model = keras.Sequential(\n",
    "    [\n",
    "        keras.Input(shape=input_shape),\n",
    "        layers.Conv2D(32, kernel_size=(3, 3), padding='same', activation='tanh'),\n",
    "        layers.MaxPooling2D(pool_size=(2, 2)),\n",
    "        layers.Conv2D(64, kernel_size=(3, 3), padding=\"valid\", activation=\"relu\"),\n",
    "        layers.MaxPooling2D(pool_size=(2, 2)),\n",
    "        layers.Conv2D(128, kernel_size=(3, 3), padding=\"valid\", activation=\"relu\"),\n",
    "        layers.Flatten(),\n",
    "        layers.Dropout(0.5),\n",
    "        layers.Dense(256, activation=\"relu\"),\n",
    "        layers.Dropout(0.3),\n",
    "        layers.Dense(num_classes, activation=\"softmax\"),\n",
    "    ]\n",
    ")\n",
    "\n",
    "model.summary()"
   ]
  },
  {
   "cell_type": "code",
   "execution_count": 141,
   "metadata": {},
   "outputs": [
    {
     "name": "stdout",
     "output_type": "stream",
     "text": [
      "Epoch 1/15\n",
      "422/422 [==============================] - 46s 106ms/step - loss: 0.5688 - accuracy: 0.7916 - val_loss: 0.3606 - val_accuracy: 0.8642\n",
      "Epoch 2/15\n",
      "422/422 [==============================] - 53s 126ms/step - loss: 0.3687 - accuracy: 0.8644 - val_loss: 0.3042 - val_accuracy: 0.8863\n",
      "Epoch 3/15\n",
      "422/422 [==============================] - 55s 130ms/step - loss: 0.3217 - accuracy: 0.8824 - val_loss: 0.2824 - val_accuracy: 0.8950\n",
      "Epoch 4/15\n",
      "422/422 [==============================] - 57s 136ms/step - loss: 0.2920 - accuracy: 0.8923 - val_loss: 0.2599 - val_accuracy: 0.9045\n",
      "Epoch 5/15\n",
      "422/422 [==============================] - 53s 127ms/step - loss: 0.2732 - accuracy: 0.8988 - val_loss: 0.2552 - val_accuracy: 0.9035\n",
      "Epoch 6/15\n",
      "422/422 [==============================] - 59s 140ms/step - loss: 0.2528 - accuracy: 0.9079 - val_loss: 0.2551 - val_accuracy: 0.9058\n",
      "Epoch 7/15\n",
      "422/422 [==============================] - 62s 148ms/step - loss: 0.2376 - accuracy: 0.9106 - val_loss: 0.2300 - val_accuracy: 0.9142\n",
      "Epoch 8/15\n",
      "422/422 [==============================] - 61s 146ms/step - loss: 0.2271 - accuracy: 0.9166 - val_loss: 0.2222 - val_accuracy: 0.9203\n",
      "Epoch 9/15\n",
      "422/422 [==============================] - 59s 139ms/step - loss: 0.2120 - accuracy: 0.9213 - val_loss: 0.2232 - val_accuracy: 0.9163\n",
      "Epoch 10/15\n",
      "422/422 [==============================] - 50s 117ms/step - loss: 0.2027 - accuracy: 0.9244 - val_loss: 0.2132 - val_accuracy: 0.9197\n",
      "Epoch 11/15\n",
      "422/422 [==============================] - 46s 110ms/step - loss: 0.1968 - accuracy: 0.9261 - val_loss: 0.2118 - val_accuracy: 0.9190\n",
      "Epoch 12/15\n",
      "422/422 [==============================] - 47s 112ms/step - loss: 0.1857 - accuracy: 0.9298 - val_loss: 0.2117 - val_accuracy: 0.9197\n",
      "Epoch 13/15\n",
      "422/422 [==============================] - 46s 110ms/step - loss: 0.1813 - accuracy: 0.9326 - val_loss: 0.2042 - val_accuracy: 0.9270\n",
      "Epoch 14/15\n",
      "422/422 [==============================] - 53s 126ms/step - loss: 0.1715 - accuracy: 0.9361 - val_loss: 0.2100 - val_accuracy: 0.9215\n",
      "Epoch 15/15\n",
      "422/422 [==============================] - 48s 113ms/step - loss: 0.1647 - accuracy: 0.9377 - val_loss: 0.2171 - val_accuracy: 0.9212\n"
     ]
    },
    {
     "data": {
      "text/plain": [
       "<keras.callbacks.History at 0x1471cc290>"
      ]
     },
     "execution_count": 141,
     "metadata": {},
     "output_type": "execute_result"
    }
   ],
   "source": [
    "batch_size = 128\n",
    "epochs = 15\n",
    "\n",
    "model.compile(loss=\"categorical_crossentropy\", optimizer=\"adam\", metrics=[\"accuracy\"])\n",
    "\n",
    "model.fit(train_images, train_labels, batch_size=batch_size, epochs=epochs, validation_split=0.1)"
   ]
  },
  {
   "cell_type": "code",
   "execution_count": 142,
   "metadata": {},
   "outputs": [
    {
     "name": "stdout",
     "output_type": "stream",
     "text": [
      "Test loss: 0.22983771562576294\n",
      "Test accuracy: 0.9192000031471252\n"
     ]
    }
   ],
   "source": [
    "score = model.evaluate(test_images, test_labels, verbose=0)\n",
    "print(\"Test loss:\", score[0])\n",
    "print(\"Test accuracy:\", score[1])"
   ]
  },
  {
   "cell_type": "markdown",
   "metadata": {},
   "source": [
    "### Modelo 3"
   ]
  },
  {
   "cell_type": "code",
   "execution_count": 143,
   "metadata": {},
   "outputs": [
    {
     "name": "stdout",
     "output_type": "stream",
     "text": [
      "Model: \"sequential_15\"\n",
      "_________________________________________________________________\n",
      " Layer (type)                Output Shape              Param #   \n",
      "=================================================================\n",
      " conv2d_37 (Conv2D)          (None, 28, 28, 32)        320       \n",
      "                                                                 \n",
      " max_pooling2d_34 (MaxPoolin  (None, 14, 14, 32)       0         \n",
      " g2D)                                                            \n",
      "                                                                 \n",
      " conv2d_38 (Conv2D)          (None, 12, 12, 64)        18496     \n",
      "                                                                 \n",
      " max_pooling2d_35 (MaxPoolin  (None, 6, 6, 64)         0         \n",
      " g2D)                                                            \n",
      "                                                                 \n",
      " conv2d_39 (Conv2D)          (None, 4, 4, 128)         73856     \n",
      "                                                                 \n",
      " flatten_15 (Flatten)        (None, 2048)              0         \n",
      "                                                                 \n",
      " dropout_19 (Dropout)        (None, 2048)              0         \n",
      "                                                                 \n",
      " dense_19 (Dense)            (None, 256)               524544    \n",
      "                                                                 \n",
      " dropout_20 (Dropout)        (None, 256)               0         \n",
      "                                                                 \n",
      " dense_20 (Dense)            (None, 10)                2570      \n",
      "                                                                 \n",
      "=================================================================\n",
      "Total params: 619,786\n",
      "Trainable params: 619,786\n",
      "Non-trainable params: 0\n",
      "_________________________________________________________________\n"
     ]
    }
   ],
   "source": [
    "n_epochs = 15\n",
    "n_batch = 120\n",
    "\n",
    "model = keras.Sequential(\n",
    "    [\n",
    "        keras.Input(shape=input_shape),\n",
    "        layers.Conv2D(32, kernel_size=(3, 3), padding='same', activation='tanh'),\n",
    "        layers.MaxPooling2D(pool_size=(2, 2)),\n",
    "        layers.Conv2D(64, kernel_size=(3, 3), padding=\"valid\", activation=\"relu\"),\n",
    "        layers.MaxPooling2D(pool_size=(2, 2)),\n",
    "        layers.Conv2D(128, kernel_size=(3, 3), padding=\"valid\", activation=\"relu\"),\n",
    "        layers.Flatten(),\n",
    "        layers.Dropout(0.5),\n",
    "        layers.Dense(256, activation=\"relu\"),\n",
    "        layers.Dropout(0.3),\n",
    "        layers.Dense(num_classes, activation=\"softmax\"),\n",
    "    ]\n",
    ")\n",
    "\n",
    "model.summary()"
   ]
  },
  {
   "cell_type": "code",
   "execution_count": 144,
   "metadata": {},
   "outputs": [
    {
     "name": "stdout",
     "output_type": "stream",
     "text": [
      "Epoch 1/15\n",
      "375/375 [==============================] - 44s 114ms/step - loss: 0.5899 - accuracy: 0.7807 - val_loss: 0.3712 - val_accuracy: 0.8632\n",
      "Epoch 2/15\n",
      "375/375 [==============================] - 48s 129ms/step - loss: 0.3681 - accuracy: 0.8652 - val_loss: 0.3110 - val_accuracy: 0.8876\n",
      "Epoch 3/15\n",
      "375/375 [==============================] - 45s 120ms/step - loss: 0.3222 - accuracy: 0.8829 - val_loss: 0.2829 - val_accuracy: 0.8955\n",
      "Epoch 4/15\n",
      "375/375 [==============================] - 40s 107ms/step - loss: 0.2922 - accuracy: 0.8927 - val_loss: 0.2640 - val_accuracy: 0.9015\n",
      "Epoch 5/15\n",
      "375/375 [==============================] - 44s 117ms/step - loss: 0.2683 - accuracy: 0.9002 - val_loss: 0.2513 - val_accuracy: 0.9057\n",
      "Epoch 6/15\n",
      "375/375 [==============================] - 49s 130ms/step - loss: 0.2507 - accuracy: 0.9066 - val_loss: 0.2428 - val_accuracy: 0.9087\n",
      "Epoch 7/15\n",
      "375/375 [==============================] - 50s 133ms/step - loss: 0.2393 - accuracy: 0.9121 - val_loss: 0.2326 - val_accuracy: 0.9158\n",
      "Epoch 8/15\n",
      "375/375 [==============================] - 53s 143ms/step - loss: 0.2249 - accuracy: 0.9175 - val_loss: 0.2286 - val_accuracy: 0.9157\n",
      "Epoch 9/15\n",
      "375/375 [==============================] - 45s 119ms/step - loss: 0.2158 - accuracy: 0.9197 - val_loss: 0.2224 - val_accuracy: 0.9171\n",
      "Epoch 10/15\n",
      "375/375 [==============================] - 47s 125ms/step - loss: 0.2029 - accuracy: 0.9250 - val_loss: 0.2122 - val_accuracy: 0.9226\n",
      "Epoch 11/15\n",
      "375/375 [==============================] - 51s 137ms/step - loss: 0.1939 - accuracy: 0.9266 - val_loss: 0.2207 - val_accuracy: 0.9215\n",
      "Epoch 12/15\n",
      "375/375 [==============================] - 43s 116ms/step - loss: 0.1852 - accuracy: 0.9299 - val_loss: 0.2225 - val_accuracy: 0.9180\n",
      "Epoch 13/15\n",
      "375/375 [==============================] - 71s 190ms/step - loss: 0.1774 - accuracy: 0.9343 - val_loss: 0.2109 - val_accuracy: 0.9258\n",
      "Epoch 14/15\n",
      "375/375 [==============================] - 43s 114ms/step - loss: 0.1708 - accuracy: 0.9358 - val_loss: 0.2147 - val_accuracy: 0.9242\n",
      "Epoch 15/15\n",
      "375/375 [==============================] - 40s 107ms/step - loss: 0.1653 - accuracy: 0.9378 - val_loss: 0.2091 - val_accuracy: 0.9248\n"
     ]
    },
    {
     "data": {
      "text/plain": [
       "<keras.callbacks.History at 0x1466e5f10>"
      ]
     },
     "execution_count": 144,
     "metadata": {},
     "output_type": "execute_result"
    }
   ],
   "source": [
    "model.compile(loss=\"categorical_crossentropy\", optimizer=\"adam\", metrics=[\"accuracy\"])\n",
    "\n",
    "model.fit(train_images, train_labels, batch_size=batch_size, epochs=epochs, validation_split=0.2)"
   ]
  },
  {
   "cell_type": "code",
   "execution_count": 145,
   "metadata": {},
   "outputs": [
    {
     "name": "stdout",
     "output_type": "stream",
     "text": [
      "Test loss: 0.22637632489204407\n",
      "Test accuracy: 0.9214000105857849\n"
     ]
    }
   ],
   "source": [
    "score = model.evaluate(test_images, test_labels, verbose=0)\n",
    "print(\"Test loss:\", score[0])\n",
    "print(\"Test accuracy:\", score[1])"
   ]
  },
  {
   "cell_type": "markdown",
   "metadata": {},
   "source": [
    "### Modelo 4"
   ]
  },
  {
   "cell_type": "code",
   "execution_count": 199,
   "metadata": {},
   "outputs": [
    {
     "name": "stdout",
     "output_type": "stream",
     "text": [
      "Model: \"sequential_38\"\n",
      "_________________________________________________________________\n",
      " Layer (type)                Output Shape              Param #   \n",
      "=================================================================\n",
      " conv2d_118 (Conv2D)         (None, 28, 28, 32)        320       \n",
      "                                                                 \n",
      " max_pooling2d_103 (MaxPooli  (None, 14, 14, 32)       0         \n",
      " ng2D)                                                           \n",
      "                                                                 \n",
      " conv2d_119 (Conv2D)         (None, 12, 12, 64)        18496     \n",
      "                                                                 \n",
      " max_pooling2d_104 (MaxPooli  (None, 6, 6, 64)         0         \n",
      " ng2D)                                                           \n",
      "                                                                 \n",
      " conv2d_120 (Conv2D)         (None, 4, 4, 128)         73856     \n",
      "                                                                 \n",
      " flatten_38 (Flatten)        (None, 2048)              0         \n",
      "                                                                 \n",
      " dropout_67 (Dropout)        (None, 2048)              0         \n",
      "                                                                 \n",
      " dense_65 (Dense)            (None, 256)               524544    \n",
      "                                                                 \n",
      " dropout_68 (Dropout)        (None, 256)               0         \n",
      "                                                                 \n",
      " dense_66 (Dense)            (None, 10)                2570      \n",
      "                                                                 \n",
      "=================================================================\n",
      "Total params: 619,786\n",
      "Trainable params: 619,786\n",
      "Non-trainable params: 0\n",
      "_________________________________________________________________\n"
     ]
    }
   ],
   "source": [
    "n_epochs = 15\n",
    "n_batch = 120\n",
    "\n",
    "model = keras.Sequential(\n",
    "    [\n",
    "        keras.Input(shape=input_shape),\n",
    "        layers.Conv2D(32, kernel_size=(3, 3), padding='same', activation='tanh'),\n",
    "        layers.MaxPooling2D(pool_size=(2, 2)),\n",
    "        layers.Conv2D(64, kernel_size=(3, 3), padding=\"valid\", activation=\"relu\"),\n",
    "        layers.MaxPooling2D(pool_size=(2, 2)),\n",
    "        layers.Conv2D(128, kernel_size=(3, 3), padding=\"valid\", activation=\"relu\"),\n",
    "        layers.Flatten(),\n",
    "        layers.Dropout(0.5),\n",
    "        layers.Dense(256, activation=\"relu\"),\n",
    "        layers.Dropout(0.3),\n",
    "        layers.Dense(num_classes, activation=\"softmax\"),\n",
    "    ]\n",
    ")\n",
    "\n",
    "model.summary()"
   ]
  },
  {
   "cell_type": "code",
   "execution_count": 200,
   "metadata": {},
   "outputs": [
    {
     "name": "stdout",
     "output_type": "stream",
     "text": [
      "Epoch 1/100\n",
      "450/450 [==============================] - 48s 104ms/step - loss: 0.5776 - accuracy: 0.7897 - val_loss: 0.3517 - val_accuracy: 0.8708\n",
      "Epoch 2/100\n",
      "450/450 [==============================] - 48s 106ms/step - loss: 0.3613 - accuracy: 0.8683 - val_loss: 0.3085 - val_accuracy: 0.8865\n",
      "Epoch 3/100\n",
      "450/450 [==============================] - 46s 103ms/step - loss: 0.3109 - accuracy: 0.8863 - val_loss: 0.2787 - val_accuracy: 0.8967\n",
      "Epoch 4/100\n",
      "450/450 [==============================] - 44s 98ms/step - loss: 0.2823 - accuracy: 0.8977 - val_loss: 0.2576 - val_accuracy: 0.9045\n",
      "Epoch 5/100\n",
      "450/450 [==============================] - 41s 92ms/step - loss: 0.2608 - accuracy: 0.9054 - val_loss: 0.2464 - val_accuracy: 0.9137\n",
      "Epoch 6/100\n",
      "450/450 [==============================] - 53s 118ms/step - loss: 0.2440 - accuracy: 0.9107 - val_loss: 0.2444 - val_accuracy: 0.9070\n",
      "Epoch 7/100\n",
      "450/450 [==============================] - 41s 92ms/step - loss: 0.2327 - accuracy: 0.9144 - val_loss: 0.2303 - val_accuracy: 0.9162\n",
      "Epoch 8/100\n",
      "450/450 [==============================] - 47s 105ms/step - loss: 0.2229 - accuracy: 0.9191 - val_loss: 0.2273 - val_accuracy: 0.9135\n",
      "Epoch 9/100\n",
      "450/450 [==============================] - 46s 103ms/step - loss: 0.2110 - accuracy: 0.9220 - val_loss: 0.2305 - val_accuracy: 0.9145\n",
      "Epoch 10/100\n",
      "450/450 [==============================] - 40s 90ms/step - loss: 0.2006 - accuracy: 0.9272 - val_loss: 0.2327 - val_accuracy: 0.9158\n",
      "Epoch 11/100\n",
      "450/450 [==============================] - 41s 91ms/step - loss: 0.1958 - accuracy: 0.9287 - val_loss: 0.2456 - val_accuracy: 0.9117\n",
      "Epoch 12/100\n",
      "450/450 [==============================] - 46s 102ms/step - loss: 0.1877 - accuracy: 0.9313 - val_loss: 0.2173 - val_accuracy: 0.9218\n",
      "Epoch 13/100\n",
      "450/450 [==============================] - 45s 100ms/step - loss: 0.1810 - accuracy: 0.9342 - val_loss: 0.2177 - val_accuracy: 0.9228\n",
      "Epoch 14/100\n",
      "450/450 [==============================] - 51s 113ms/step - loss: 0.1749 - accuracy: 0.9362 - val_loss: 0.2357 - val_accuracy: 0.9215\n",
      "Epoch 15/100\n",
      "450/450 [==============================] - 51s 114ms/step - loss: 0.1692 - accuracy: 0.9375 - val_loss: 0.2220 - val_accuracy: 0.9227\n",
      "Epoch 16/100\n",
      "450/450 [==============================] - 49s 108ms/step - loss: 0.1639 - accuracy: 0.9392 - val_loss: 0.2338 - val_accuracy: 0.9258\n",
      "Epoch 17/100\n",
      "450/450 [==============================] - 45s 101ms/step - loss: 0.1594 - accuracy: 0.9414 - val_loss: 0.2291 - val_accuracy: 0.9218\n",
      "Epoch 18/100\n",
      "450/450 [==============================] - 46s 103ms/step - loss: 0.1565 - accuracy: 0.9439 - val_loss: 0.2286 - val_accuracy: 0.9278\n",
      "Epoch 19/100\n",
      "450/450 [==============================] - 46s 102ms/step - loss: 0.1501 - accuracy: 0.9456 - val_loss: 0.2436 - val_accuracy: 0.9247\n",
      "Epoch 20/100\n",
      "450/450 [==============================] - 46s 103ms/step - loss: 0.1475 - accuracy: 0.9468 - val_loss: 0.2153 - val_accuracy: 0.9272\n",
      "Epoch 21/100\n",
      "450/450 [==============================] - 46s 103ms/step - loss: 0.1436 - accuracy: 0.9472 - val_loss: 0.2282 - val_accuracy: 0.9247\n",
      "Epoch 22/100\n",
      "450/450 [==============================] - 45s 99ms/step - loss: 0.1407 - accuracy: 0.9478 - val_loss: 0.2314 - val_accuracy: 0.9217\n",
      "Epoch 23/100\n",
      "450/450 [==============================] - 41s 92ms/step - loss: 0.1387 - accuracy: 0.9491 - val_loss: 0.2349 - val_accuracy: 0.9262\n",
      "Epoch 24/100\n",
      "450/450 [==============================] - 41s 92ms/step - loss: 0.1327 - accuracy: 0.9510 - val_loss: 0.2300 - val_accuracy: 0.9248\n",
      "Epoch 25/100\n",
      "450/450 [==============================] - 40s 89ms/step - loss: 0.1331 - accuracy: 0.9511 - val_loss: 0.2481 - val_accuracy: 0.9198\n",
      "Epoch 26/100\n",
      "450/450 [==============================] - 41s 92ms/step - loss: 0.1306 - accuracy: 0.9525 - val_loss: 0.2297 - val_accuracy: 0.9262\n",
      "Epoch 27/100\n",
      "450/450 [==============================] - 42s 94ms/step - loss: 0.1267 - accuracy: 0.9543 - val_loss: 0.2448 - val_accuracy: 0.9272\n",
      "Epoch 28/100\n",
      "450/450 [==============================] - 40s 90ms/step - loss: 0.1229 - accuracy: 0.9553 - val_loss: 0.2614 - val_accuracy: 0.9255\n",
      "Epoch 29/100\n",
      "450/450 [==============================] - 40s 90ms/step - loss: 0.1233 - accuracy: 0.9549 - val_loss: 0.2315 - val_accuracy: 0.9238\n",
      "Epoch 30/100\n",
      "450/450 [==============================] - 213s 473ms/step - loss: 0.1215 - accuracy: 0.9569 - val_loss: 0.2362 - val_accuracy: 0.9253\n",
      "Epoch 31/100\n",
      "450/450 [==============================] - 49s 109ms/step - loss: 0.1181 - accuracy: 0.9572 - val_loss: 0.2550 - val_accuracy: 0.9247\n",
      "Epoch 32/100\n",
      "450/450 [==============================] - 47s 105ms/step - loss: 0.1192 - accuracy: 0.9567 - val_loss: 0.2419 - val_accuracy: 0.9240\n",
      "Epoch 33/100\n",
      "450/450 [==============================] - 43s 96ms/step - loss: 0.1138 - accuracy: 0.9592 - val_loss: 0.2435 - val_accuracy: 0.9265\n",
      "Epoch 34/100\n",
      "450/450 [==============================] - 46s 103ms/step - loss: 0.1133 - accuracy: 0.9589 - val_loss: 0.2577 - val_accuracy: 0.9215\n",
      "Epoch 35/100\n",
      "450/450 [==============================] - 47s 104ms/step - loss: 0.1130 - accuracy: 0.9597 - val_loss: 0.2993 - val_accuracy: 0.9278\n",
      "Epoch 36/100\n",
      "450/450 [==============================] - 50s 112ms/step - loss: 0.1115 - accuracy: 0.9601 - val_loss: 0.2902 - val_accuracy: 0.9255\n",
      "Epoch 37/100\n",
      "450/450 [==============================] - 47s 105ms/step - loss: 0.1105 - accuracy: 0.9596 - val_loss: 0.2514 - val_accuracy: 0.9280\n",
      "Epoch 38/100\n",
      "450/450 [==============================] - 45s 99ms/step - loss: 0.1072 - accuracy: 0.9623 - val_loss: 0.2633 - val_accuracy: 0.9243\n",
      "Epoch 39/100\n",
      "450/450 [==============================] - 40s 90ms/step - loss: 0.1057 - accuracy: 0.9623 - val_loss: 0.2873 - val_accuracy: 0.9258\n",
      "Epoch 40/100\n",
      "450/450 [==============================] - 41s 92ms/step - loss: 0.1051 - accuracy: 0.9630 - val_loss: 0.2601 - val_accuracy: 0.9260\n",
      "Epoch 41/100\n",
      "450/450 [==============================] - 41s 91ms/step - loss: 0.1026 - accuracy: 0.9641 - val_loss: 0.2894 - val_accuracy: 0.9273\n",
      "Epoch 42/100\n",
      "450/450 [==============================] - 41s 92ms/step - loss: 0.1030 - accuracy: 0.9636 - val_loss: 0.2659 - val_accuracy: 0.9250\n",
      "Epoch 43/100\n",
      "450/450 [==============================] - 42s 93ms/step - loss: 0.1016 - accuracy: 0.9639 - val_loss: 0.3189 - val_accuracy: 0.9215\n",
      "Epoch 44/100\n",
      "450/450 [==============================] - 42s 93ms/step - loss: 0.1042 - accuracy: 0.9635 - val_loss: 0.3218 - val_accuracy: 0.9250\n",
      "Epoch 45/100\n",
      "450/450 [==============================] - 44s 97ms/step - loss: 0.0994 - accuracy: 0.9651 - val_loss: 0.2842 - val_accuracy: 0.9288\n",
      "Epoch 46/100\n",
      "450/450 [==============================] - 40s 89ms/step - loss: 0.1002 - accuracy: 0.9646 - val_loss: 0.2995 - val_accuracy: 0.9253\n",
      "Epoch 47/100\n",
      "450/450 [==============================] - 41s 91ms/step - loss: 0.0989 - accuracy: 0.9645 - val_loss: 0.2693 - val_accuracy: 0.9265\n",
      "Epoch 48/100\n",
      "450/450 [==============================] - 48s 107ms/step - loss: 0.0972 - accuracy: 0.9657 - val_loss: 0.2707 - val_accuracy: 0.9252\n",
      "Epoch 49/100\n",
      "450/450 [==============================] - 46s 102ms/step - loss: 0.0990 - accuracy: 0.9652 - val_loss: 0.2645 - val_accuracy: 0.9277\n",
      "Epoch 50/100\n",
      "450/450 [==============================] - 46s 102ms/step - loss: 0.0945 - accuracy: 0.9666 - val_loss: 0.3142 - val_accuracy: 0.9288\n",
      "Epoch 51/100\n",
      "450/450 [==============================] - 55s 123ms/step - loss: 0.0939 - accuracy: 0.9674 - val_loss: 0.3482 - val_accuracy: 0.9260\n",
      "Epoch 52/100\n",
      "450/450 [==============================] - 49s 110ms/step - loss: 0.0929 - accuracy: 0.9679 - val_loss: 0.3008 - val_accuracy: 0.9287\n",
      "Epoch 53/100\n",
      "450/450 [==============================] - 52s 116ms/step - loss: 0.0953 - accuracy: 0.9670 - val_loss: 0.3328 - val_accuracy: 0.9243\n",
      "Epoch 54/100\n",
      "450/450 [==============================] - 43s 95ms/step - loss: 0.0912 - accuracy: 0.9680 - val_loss: 0.3776 - val_accuracy: 0.9260\n",
      "Epoch 55/100\n",
      "450/450 [==============================] - 43s 96ms/step - loss: 0.0939 - accuracy: 0.9680 - val_loss: 0.2990 - val_accuracy: 0.9247\n",
      "Epoch 56/100\n",
      "450/450 [==============================] - 44s 98ms/step - loss: 0.0931 - accuracy: 0.9676 - val_loss: 0.3415 - val_accuracy: 0.9235\n",
      "Epoch 57/100\n",
      "450/450 [==============================] - 44s 97ms/step - loss: 0.0935 - accuracy: 0.9684 - val_loss: 0.3211 - val_accuracy: 0.9318\n",
      "Epoch 58/100\n",
      "450/450 [==============================] - 44s 98ms/step - loss: 0.0914 - accuracy: 0.9678 - val_loss: 0.3902 - val_accuracy: 0.9268\n",
      "Epoch 59/100\n",
      "450/450 [==============================] - 41s 91ms/step - loss: 0.0902 - accuracy: 0.9689 - val_loss: 0.2911 - val_accuracy: 0.9273\n",
      "Epoch 60/100\n",
      "450/450 [==============================] - 39s 87ms/step - loss: 0.0886 - accuracy: 0.9696 - val_loss: 0.3012 - val_accuracy: 0.9268\n",
      "Epoch 61/100\n",
      "450/450 [==============================] - 41s 91ms/step - loss: 0.0888 - accuracy: 0.9697 - val_loss: 0.3381 - val_accuracy: 0.9278\n",
      "Epoch 62/100\n",
      "450/450 [==============================] - 48s 106ms/step - loss: 0.0883 - accuracy: 0.9698 - val_loss: 0.3437 - val_accuracy: 0.9255\n",
      "Epoch 63/100\n",
      "450/450 [==============================] - 49s 108ms/step - loss: 0.0874 - accuracy: 0.9703 - val_loss: 0.3397 - val_accuracy: 0.9245\n",
      "Epoch 64/100\n",
      "450/450 [==============================] - 47s 105ms/step - loss: 0.0861 - accuracy: 0.9708 - val_loss: 0.3607 - val_accuracy: 0.9245\n",
      "Epoch 65/100\n",
      "450/450 [==============================] - 43s 96ms/step - loss: 0.0892 - accuracy: 0.9695 - val_loss: 0.3005 - val_accuracy: 0.9210\n",
      "Epoch 66/100\n",
      "450/450 [==============================] - 40s 89ms/step - loss: 0.0864 - accuracy: 0.9699 - val_loss: 0.2917 - val_accuracy: 0.9247\n",
      "Epoch 67/100\n",
      "450/450 [==============================] - 40s 89ms/step - loss: 0.0869 - accuracy: 0.9707 - val_loss: 0.3081 - val_accuracy: 0.9273\n",
      "Epoch 68/100\n",
      "450/450 [==============================] - 42s 93ms/step - loss: 0.0850 - accuracy: 0.9709 - val_loss: 0.3195 - val_accuracy: 0.9293\n",
      "Epoch 69/100\n",
      "450/450 [==============================] - 51s 114ms/step - loss: 0.0849 - accuracy: 0.9707 - val_loss: 0.3431 - val_accuracy: 0.9270\n",
      "Epoch 70/100\n",
      "450/450 [==============================] - 55s 122ms/step - loss: 0.0852 - accuracy: 0.9716 - val_loss: 0.3089 - val_accuracy: 0.9265\n",
      "Epoch 71/100\n",
      "450/450 [==============================] - 42s 94ms/step - loss: 0.0857 - accuracy: 0.9714 - val_loss: 0.2997 - val_accuracy: 0.9242\n",
      "Epoch 72/100\n",
      "450/450 [==============================] - 43s 96ms/step - loss: 0.0822 - accuracy: 0.9725 - val_loss: 0.3679 - val_accuracy: 0.9273\n",
      "Epoch 73/100\n",
      "450/450 [==============================] - 45s 100ms/step - loss: 0.0808 - accuracy: 0.9729 - val_loss: 0.3264 - val_accuracy: 0.9260\n",
      "Epoch 74/100\n",
      "450/450 [==============================] - 41s 91ms/step - loss: 0.0846 - accuracy: 0.9722 - val_loss: 0.4185 - val_accuracy: 0.9262\n",
      "Epoch 75/100\n",
      "450/450 [==============================] - 51s 114ms/step - loss: 0.0856 - accuracy: 0.9714 - val_loss: 0.3291 - val_accuracy: 0.9243\n",
      "Epoch 76/100\n",
      "450/450 [==============================] - 44s 98ms/step - loss: 0.0822 - accuracy: 0.9723 - val_loss: 0.3831 - val_accuracy: 0.9260\n",
      "Epoch 77/100\n",
      "450/450 [==============================] - 46s 101ms/step - loss: 0.0862 - accuracy: 0.9719 - val_loss: 0.3421 - val_accuracy: 0.9280\n",
      "Epoch 78/100\n",
      "450/450 [==============================] - 46s 103ms/step - loss: 0.0818 - accuracy: 0.9716 - val_loss: 0.3817 - val_accuracy: 0.9278\n",
      "Epoch 79/100\n",
      "450/450 [==============================] - 45s 99ms/step - loss: 0.0838 - accuracy: 0.9722 - val_loss: 0.3535 - val_accuracy: 0.9263\n",
      "Epoch 80/100\n",
      "450/450 [==============================] - 41s 90ms/step - loss: 0.0828 - accuracy: 0.9736 - val_loss: 0.4484 - val_accuracy: 0.9285\n",
      "Epoch 81/100\n",
      "450/450 [==============================] - 46s 103ms/step - loss: 0.0802 - accuracy: 0.9728 - val_loss: 0.3598 - val_accuracy: 0.9245\n",
      "Epoch 82/100\n",
      "450/450 [==============================] - 46s 102ms/step - loss: 0.0808 - accuracy: 0.9732 - val_loss: 0.4088 - val_accuracy: 0.9233\n",
      "Epoch 83/100\n",
      "450/450 [==============================] - 46s 103ms/step - loss: 0.0806 - accuracy: 0.9730 - val_loss: 0.3926 - val_accuracy: 0.9265\n",
      "Epoch 84/100\n",
      "450/450 [==============================] - 49s 109ms/step - loss: 0.0825 - accuracy: 0.9732 - val_loss: 0.4006 - val_accuracy: 0.9225\n",
      "Epoch 85/100\n",
      "450/450 [==============================] - 47s 105ms/step - loss: 0.0787 - accuracy: 0.9742 - val_loss: 0.3986 - val_accuracy: 0.9227\n",
      "Epoch 86/100\n",
      "450/450 [==============================] - 46s 102ms/step - loss: 0.0828 - accuracy: 0.9728 - val_loss: 0.3308 - val_accuracy: 0.9228\n",
      "Epoch 87/100\n",
      "450/450 [==============================] - 51s 112ms/step - loss: 0.0796 - accuracy: 0.9743 - val_loss: 0.3658 - val_accuracy: 0.9275\n",
      "Epoch 88/100\n",
      "450/450 [==============================] - 49s 109ms/step - loss: 0.0818 - accuracy: 0.9729 - val_loss: 0.3702 - val_accuracy: 0.9250\n",
      "Epoch 89/100\n",
      "450/450 [==============================] - 50s 112ms/step - loss: 0.0789 - accuracy: 0.9744 - val_loss: 0.3374 - val_accuracy: 0.9215\n",
      "Epoch 90/100\n",
      "450/450 [==============================] - 49s 110ms/step - loss: 0.0808 - accuracy: 0.9738 - val_loss: 0.3654 - val_accuracy: 0.9238\n",
      "Epoch 91/100\n",
      "450/450 [==============================] - 49s 109ms/step - loss: 0.0824 - accuracy: 0.9732 - val_loss: 0.3522 - val_accuracy: 0.9233\n",
      "Epoch 92/100\n",
      "450/450 [==============================] - 52s 115ms/step - loss: 0.0775 - accuracy: 0.9745 - val_loss: 0.3507 - val_accuracy: 0.9245\n",
      "Epoch 93/100\n",
      "450/450 [==============================] - 52s 115ms/step - loss: 0.0797 - accuracy: 0.9743 - val_loss: 0.4768 - val_accuracy: 0.9223\n",
      "Epoch 94/100\n",
      "450/450 [==============================] - 64s 142ms/step - loss: 0.0810 - accuracy: 0.9740 - val_loss: 0.4434 - val_accuracy: 0.9252\n",
      "Epoch 95/100\n",
      "450/450 [==============================] - 83s 185ms/step - loss: 0.0759 - accuracy: 0.9756 - val_loss: 0.3298 - val_accuracy: 0.9208\n",
      "Epoch 96/100\n",
      "450/450 [==============================] - 64s 141ms/step - loss: 0.0824 - accuracy: 0.9736 - val_loss: 0.3460 - val_accuracy: 0.9215\n",
      "Epoch 97/100\n",
      "450/450 [==============================] - 85s 190ms/step - loss: 0.0754 - accuracy: 0.9751 - val_loss: 0.3964 - val_accuracy: 0.9250\n",
      "Epoch 98/100\n",
      "450/450 [==============================] - 92s 205ms/step - loss: 0.0793 - accuracy: 0.9744 - val_loss: 0.4181 - val_accuracy: 0.9217\n",
      "Epoch 99/100\n",
      "450/450 [==============================] - 90s 200ms/step - loss: 0.0765 - accuracy: 0.9753 - val_loss: 0.3758 - val_accuracy: 0.9268\n",
      "Epoch 100/100\n",
      "450/450 [==============================] - 82s 183ms/step - loss: 0.0769 - accuracy: 0.9753 - val_loss: 0.4228 - val_accuracy: 0.9252\n"
     ]
    },
    {
     "data": {
      "text/plain": [
       "<keras.callbacks.History at 0x14a617150>"
      ]
     },
     "execution_count": 200,
     "metadata": {},
     "output_type": "execute_result"
    }
   ],
   "source": [
    "model.compile(loss=\"categorical_crossentropy\", optimizer=\"RMSProp\", metrics=[\"accuracy\"])\n",
    "\n",
    "model.fit(train_images, train_labels, batch_size=n_batch, epochs=n_epochs, validation_split=0.1)"
   ]
  },
  {
   "cell_type": "code",
   "execution_count": 201,
   "metadata": {},
   "outputs": [
    {
     "name": "stdout",
     "output_type": "stream",
     "text": [
      "Test loss: 0.46621474623680115\n",
      "Test accuracy: 0.9217000007629395\n"
     ]
    }
   ],
   "source": [
    "score = model.evaluate(test_images, test_labels, verbose=0)\n",
    "print(\"Test loss:\", score[0])\n",
    "print(\"Test accuracy:\", score[1])"
   ]
  },
  {
   "cell_type": "markdown",
   "metadata": {},
   "source": [
    "### Modelo 5"
   ]
  },
  {
   "cell_type": "code",
   "execution_count": 22,
   "metadata": {},
   "outputs": [],
   "source": [
    "((trainX, trainY), (validationX, validationY)) = fashion_mnist.load_data()\n",
    "\n",
    "trainX = np.expand_dims(trainX, -1)\n",
    "validationX = np.expand_dims(validationX, -1)\n"
   ]
  },
  {
   "cell_type": "code",
   "execution_count": 23,
   "metadata": {},
   "outputs": [
    {
     "data": {
      "image/png": "[encoded data removed]",
      "text/plain": [
       "<Figure size 1200x800 with 10 Axes>"
      ]
     },
     "metadata": {},
     "output_type": "display_data"
    }
   ],
   "source": [
    "# Definir los nombres de las clases correspondientes a las etiquetas\n",
    "nombres_clases = [\n",
    "    \"Camiseta/Top\",\n",
    "    \"Pantalón\",\n",
    "    \"Suéter\",\n",
    "    \"Vestido\",\n",
    "    \"Abrigo\",\n",
    "    \"Sandalia\",\n",
    "    \"Camisa\",\n",
    "    \"Zapatilla deportiva\",\n",
    "    \"Bolso\",\n",
    "    \"Bota de tobillo\"\n",
    "]\n",
    "\n",
    "# Crear un diccionario para almacenar una imagen representativa de cada etiqueta\n",
    "imagenes_por_etiqueta = {}\n",
    "\n",
    "# Recorrer el conjunto de entrenamiento y almacenar la primera imagen de cada etiqueta\n",
    "for i in range(len(trainY)):\n",
    "    etiqueta = trainY[i]\n",
    "    if etiqueta not in imagenes_por_etiqueta:\n",
    "        imagenes_por_etiqueta[etiqueta] = trainX[i]\n",
    "    \n",
    "    # Detener el bucle una vez que se haya encontrado al menos una imagen por cada etiqueta\n",
    "    if len(imagenes_por_etiqueta) == 10:\n",
    "        break\n",
    "\n",
    "# Mostrar las imágenes representativas de cada etiqueta\n",
    "plt.figure(figsize=(12, 8))\n",
    "for etiqueta, imagen in imagenes_por_etiqueta.items():\n",
    "    plt.subplot(2, 5, etiqueta + 1)\n",
    "    plt.imshow(imagen, cmap='gray')\n",
    "    plt.title(nombres_clases[etiqueta])\n",
    "    plt.axis('off')\n",
    "plt.tight_layout()\n",
    "plt.show()\n"
   ]
  },
  {
   "cell_type": "code",
   "execution_count": 6,
   "metadata": {},
   "outputs": [
    {
     "name": "stdout",
     "output_type": "stream",
     "text": [
      "Total de gpus en uso:  0\n"
     ]
    }
   ],
   "source": [
    "import tensorflow as tf      # para importar interfaces de tensorflow\n",
    "gpus = tf.config.experimental.list_physical_devices('GPU')\n",
    "print('Total de gpus en uso: ', len(gpus))"
   ]
  },
  {
   "cell_type": "code",
   "execution_count": 7,
   "metadata": {},
   "outputs": [
    {
     "name": "stdout",
     "output_type": "stream",
     "text": [
      "Datos de entrenamiento    : (25600, 28, 28, 1)\n",
      "Etiquedas de entrenamiento: (25600,)\n",
      "Datos de validacion       : (6400, 28, 28, 1)\n",
      "Etiquetas de validacion   : (6400,)\n"
     ]
    }
   ],
   "source": [
    "# INTRODUCIMOS LAS VARIABLES DE CANTIDAD DE DATOS DE ENTRENAMIENTO Y VALIDACIÓN\n",
    "train_size = 25600   \n",
    "test_size = 6400     \n",
    "\n",
    "trainx, validationx, trainy, validationy = model_selection.train_test_split(trainX, trainY, \n",
    "                                                                            train_size=train_size,  \n",
    "                                                                            test_size=test_size,    \n",
    "                                                                            random_state=17)        \n",
    "\n",
    "# desplegamos las dimensiones de los datos de entrenamiento y validación\n",
    "print(\"Datos de entrenamiento    :\", trainx.shape)\n",
    "print(\"Etiquedas de entrenamiento:\", trainy.shape)\n",
    "print(\"Datos de validacion       :\", validationx.shape)\n",
    "print(\"Etiquetas de validacion   :\", validationy.shape)"
   ]
  },
  {
   "cell_type": "code",
   "execution_count": 8,
   "metadata": {},
   "outputs": [
    {
     "name": "stdout",
     "output_type": "stream",
     "text": [
      "Datos de entrenamiento    : (25600, 28, 28, 1)\n",
      "Datos de validacion       : (6400, 28, 28, 1)\n",
      "Etiquedas de entrenamiento: (25600, 10)\n",
      "Etiquedas de validación   : (6400, 10)\n"
     ]
    }
   ],
   "source": [
    "# conversión de las intensidades de los píxeles del rango 0-255 al rango 0.0-1.0\n",
    "x_train, x_validation = trainx/255.0, validationx/255.0\n",
    "print(\"Datos de entrenamiento    :\", x_train.shape)\n",
    "print(\"Datos de validacion       :\", x_validation.shape)\n",
    "\n",
    "# conversión de las etiquetas de enteros a vectores one hot\n",
    "y_train = to_categorical(trainy)\n",
    "y_validation = to_categorical(validationy)\n",
    "print(\"Etiquedas de entrenamiento:\", y_train.shape)\n",
    "print(\"Etiquedas de validación   :\", y_validation.shape)"
   ]
  },
  {
   "cell_type": "code",
   "execution_count": 9,
   "metadata": {},
   "outputs": [],
   "source": [
    "n_epochs = 150     # <--- CAMBIAR POR 150 ÉPOCAS\n",
    "n_batch = 100      # <--- CAMBIO AQUÍ\n",
    "lrate = 0.0001 "
   ]
  },
  {
   "cell_type": "code",
   "execution_count": 24,
   "metadata": {},
   "outputs": [],
   "source": [
    "model = models.Sequential([\n",
    "    layers.Conv2D(32, (3, 3), strides=(1, 1), padding='same', activation='tanh', input_shape=(28, 28, 1)),\n",
    "    layers.BatchNormalization(),\n",
    "    layers.Conv2D(32, (3, 3), strides=(1, 1), padding='same', activation='tanh'),\n",
    "    layers.BatchNormalization(),\n",
    "    layers.MaxPooling2D((2, 2), strides=(2, 2), padding='valid'),\n",
    "    layers.Dropout(0.2),\n",
    "    layers.Conv2D(64, (3, 3), strides=(1, 1), padding='same', activation='tanh'),\n",
    "    layers.BatchNormalization(),\n",
    "    layers.Conv2D(64, (3, 3), strides=(1, 1), padding='same', activation='tanh'),\n",
    "    layers.BatchNormalization(),\n",
    "    layers.MaxPooling2D((2, 2), strides=(2, 2), padding='valid'),\n",
    "    layers.Dropout(0.3),\n",
    "    layers.Conv2D(128, (3, 3), strides=(1, 1), padding='same', activation='tanh'),\n",
    "    layers.BatchNormalization(),\n",
    "    layers.Conv2D(128, (3, 3), strides=(1, 1), padding='same', activation='tanh'),\n",
    "    layers.BatchNormalization(),\n",
    "    layers.MaxPooling2D((2, 2), strides=(2, 2), padding='valid'),\n",
    "    layers.Dropout(0.4),\n",
    "    layers.Flatten(),\n",
    "    layers.Dense(16, activation='relu'),\n",
    "    layers.BatchNormalization(),\n",
    "    layers.Dropout(0.5),\n",
    "    layers.Dense(10, activation='softmax')\n",
    "])\n"
   ]
  },
  {
   "cell_type": "code",
   "execution_count": 11,
   "metadata": {},
   "outputs": [],
   "source": [
    "opt = optimizers.RMSprop(learning_rate=lrate)\n",
    "\n",
    "model.compile(optimizer=opt, \n",
    "   loss='categorical_crossentropy',\n",
    "   metrics=['accuracy'])"
   ]
  },
  {
   "cell_type": "code",
   "execution_count": 12,
   "metadata": {},
   "outputs": [
    {
     "name": "stdout",
     "output_type": "stream",
     "text": [
      "Epoch 1/150\n",
      "256/256 - 164s - loss: 1.7344 - accuracy: 0.4194 - val_loss: 1.1335 - val_accuracy: 0.6261 - 164s/epoch - 640ms/step\n",
      "Epoch 2/150\n",
      "256/256 - 143s - loss: 1.2110 - accuracy: 0.6052 - val_loss: 0.7192 - val_accuracy: 0.7689 - 143s/epoch - 558ms/step\n",
      "Epoch 3/150\n",
      "256/256 - 187s - loss: 1.0414 - accuracy: 0.6673 - val_loss: 0.6092 - val_accuracy: 0.8025 - 187s/epoch - 732ms/step\n",
      "Epoch 4/150\n",
      "256/256 - 174s - loss: 0.9368 - accuracy: 0.7074 - val_loss: 0.5357 - val_accuracy: 0.8291 - 174s/epoch - 678ms/step\n",
      "Epoch 5/150\n",
      "256/256 - 165s - loss: 0.8566 - accuracy: 0.7343 - val_loss: 0.4805 - val_accuracy: 0.8452 - 165s/epoch - 643ms/step\n",
      "Epoch 6/150\n",
      "256/256 - 167s - loss: 0.7895 - accuracy: 0.7603 - val_loss: 0.4376 - val_accuracy: 0.8622 - 167s/epoch - 652ms/step\n",
      "Epoch 7/150\n",
      "256/256 - 163s - loss: 0.7413 - accuracy: 0.7730 - val_loss: 0.4282 - val_accuracy: 0.8566 - 163s/epoch - 636ms/step\n",
      "Epoch 8/150\n",
      "256/256 - 157s - loss: 0.7064 - accuracy: 0.7823 - val_loss: 0.3859 - val_accuracy: 0.8714 - 157s/epoch - 612ms/step\n",
      "Epoch 9/150\n",
      "256/256 - 143s - loss: 0.6674 - accuracy: 0.7957 - val_loss: 0.3764 - val_accuracy: 0.8719 - 143s/epoch - 559ms/step\n",
      "Epoch 10/150\n",
      "256/256 - 120s - loss: 0.6482 - accuracy: 0.7992 - val_loss: 0.3574 - val_accuracy: 0.8800 - 120s/epoch - 468ms/step\n",
      "Epoch 11/150\n",
      "256/256 - 132s - loss: 0.6265 - accuracy: 0.8043 - val_loss: 0.3412 - val_accuracy: 0.8822 - 132s/epoch - 516ms/step\n",
      "Epoch 12/150\n",
      "256/256 - 133s - loss: 0.5997 - accuracy: 0.8130 - val_loss: 0.3408 - val_accuracy: 0.8838 - 133s/epoch - 521ms/step\n",
      "Epoch 13/150\n",
      "256/256 - 134s - loss: 0.5758 - accuracy: 0.8210 - val_loss: 0.3210 - val_accuracy: 0.8889 - 134s/epoch - 523ms/step\n",
      "Epoch 14/150\n",
      "256/256 - 131s - loss: 0.5632 - accuracy: 0.8240 - val_loss: 0.3021 - val_accuracy: 0.8975 - 131s/epoch - 512ms/step\n",
      "Epoch 15/150\n",
      "256/256 - 121s - loss: 0.5416 - accuracy: 0.8322 - val_loss: 0.3023 - val_accuracy: 0.8936 - 121s/epoch - 471ms/step\n",
      "Epoch 16/150\n",
      "256/256 - 125s - loss: 0.5293 - accuracy: 0.8325 - val_loss: 0.2941 - val_accuracy: 0.8991 - 125s/epoch - 486ms/step\n",
      "Epoch 17/150\n",
      "256/256 - 130s - loss: 0.5134 - accuracy: 0.8380 - val_loss: 0.3048 - val_accuracy: 0.8891 - 130s/epoch - 506ms/step\n",
      "Epoch 18/150\n",
      "256/256 - 127s - loss: 0.5048 - accuracy: 0.8421 - val_loss: 0.2803 - val_accuracy: 0.9019 - 127s/epoch - 497ms/step\n",
      "Epoch 19/150\n",
      "256/256 - 135s - loss: 0.4854 - accuracy: 0.8486 - val_loss: 0.2780 - val_accuracy: 0.9042 - 135s/epoch - 527ms/step\n",
      "Epoch 20/150\n",
      "256/256 - 139s - loss: 0.4783 - accuracy: 0.8508 - val_loss: 0.2732 - val_accuracy: 0.9025 - 139s/epoch - 542ms/step\n",
      "Epoch 21/150\n",
      "256/256 - 137s - loss: 0.4622 - accuracy: 0.8532 - val_loss: 0.2678 - val_accuracy: 0.9047 - 137s/epoch - 534ms/step\n",
      "Epoch 22/150\n",
      "256/256 - 136s - loss: 0.4518 - accuracy: 0.8570 - val_loss: 0.2609 - val_accuracy: 0.9094 - 136s/epoch - 532ms/step\n",
      "Epoch 23/150\n",
      "256/256 - 138s - loss: 0.4541 - accuracy: 0.8562 - val_loss: 0.2580 - val_accuracy: 0.9070 - 138s/epoch - 537ms/step\n",
      "Epoch 24/150\n",
      "256/256 - 135s - loss: 0.4337 - accuracy: 0.8614 - val_loss: 0.2595 - val_accuracy: 0.9094 - 135s/epoch - 528ms/step\n",
      "Epoch 25/150\n",
      "256/256 - 125s - loss: 0.4326 - accuracy: 0.8633 - val_loss: 0.2576 - val_accuracy: 0.9102 - 125s/epoch - 488ms/step\n",
      "Epoch 26/150\n",
      "256/256 - 138s - loss: 0.4260 - accuracy: 0.8657 - val_loss: 0.2565 - val_accuracy: 0.9095 - 138s/epoch - 537ms/step\n",
      "Epoch 27/150\n",
      "256/256 - 157s - loss: 0.4203 - accuracy: 0.8682 - val_loss: 0.2499 - val_accuracy: 0.9136 - 157s/epoch - 615ms/step\n",
      "Epoch 28/150\n",
      "256/256 - 151s - loss: 0.4135 - accuracy: 0.8680 - val_loss: 0.2551 - val_accuracy: 0.9092 - 151s/epoch - 590ms/step\n",
      "Epoch 29/150\n",
      "256/256 - 140s - loss: 0.4010 - accuracy: 0.8717 - val_loss: 0.2455 - val_accuracy: 0.9137 - 140s/epoch - 547ms/step\n",
      "Epoch 30/150\n",
      "256/256 - 138s - loss: 0.3989 - accuracy: 0.8723 - val_loss: 0.2488 - val_accuracy: 0.9120 - 138s/epoch - 540ms/step\n",
      "Epoch 31/150\n",
      "256/256 - 138s - loss: 0.3976 - accuracy: 0.8743 - val_loss: 0.2572 - val_accuracy: 0.9089 - 138s/epoch - 541ms/step\n",
      "Epoch 32/150\n",
      "256/256 - 159s - loss: 0.3849 - accuracy: 0.8780 - val_loss: 0.2440 - val_accuracy: 0.9147 - 159s/epoch - 621ms/step\n",
      "Epoch 33/150\n",
      "256/256 - 161s - loss: 0.3848 - accuracy: 0.8773 - val_loss: 0.2676 - val_accuracy: 0.9048 - 161s/epoch - 629ms/step\n",
      "Epoch 34/150\n",
      "256/256 - 188s - loss: 0.3796 - accuracy: 0.8786 - val_loss: 0.2390 - val_accuracy: 0.9173 - 188s/epoch - 733ms/step\n",
      "Epoch 35/150\n",
      "256/256 - 182s - loss: 0.3743 - accuracy: 0.8803 - val_loss: 0.2336 - val_accuracy: 0.9205 - 182s/epoch - 710ms/step\n",
      "Epoch 36/150\n",
      "256/256 - 178s - loss: 0.3681 - accuracy: 0.8822 - val_loss: 0.2328 - val_accuracy: 0.9177 - 178s/epoch - 693ms/step\n",
      "Epoch 37/150\n",
      "256/256 - 157s - loss: 0.3695 - accuracy: 0.8810 - val_loss: 0.2318 - val_accuracy: 0.9206 - 157s/epoch - 613ms/step\n",
      "Epoch 38/150\n",
      "256/256 - 160s - loss: 0.3593 - accuracy: 0.8846 - val_loss: 0.2388 - val_accuracy: 0.9152 - 160s/epoch - 627ms/step\n",
      "Epoch 39/150\n",
      "256/256 - 153s - loss: 0.3506 - accuracy: 0.8861 - val_loss: 0.2254 - val_accuracy: 0.9234 - 153s/epoch - 597ms/step\n",
      "Epoch 40/150\n",
      "256/256 - 202s - loss: 0.3522 - accuracy: 0.8866 - val_loss: 0.2294 - val_accuracy: 0.9202 - 202s/epoch - 788ms/step\n",
      "Epoch 41/150\n",
      "256/256 - 169s - loss: 0.3483 - accuracy: 0.8894 - val_loss: 0.2194 - val_accuracy: 0.9233 - 169s/epoch - 660ms/step\n",
      "Epoch 42/150\n",
      "256/256 - 194s - loss: 0.3416 - accuracy: 0.8909 - val_loss: 0.2191 - val_accuracy: 0.9234 - 194s/epoch - 756ms/step\n",
      "Epoch 43/150\n",
      "256/256 - 88s - loss: 0.3400 - accuracy: 0.8891 - val_loss: 0.2453 - val_accuracy: 0.9152 - 88s/epoch - 345ms/step\n",
      "Epoch 44/150\n",
      "256/256 - 83s - loss: 0.3399 - accuracy: 0.8918 - val_loss: 0.2191 - val_accuracy: 0.9237 - 83s/epoch - 324ms/step\n",
      "Epoch 45/150\n",
      "256/256 - 151s - loss: 0.3324 - accuracy: 0.8917 - val_loss: 0.2361 - val_accuracy: 0.9148 - 151s/epoch - 591ms/step\n",
      "Epoch 46/150\n",
      "256/256 - 121s - loss: 0.3309 - accuracy: 0.8934 - val_loss: 0.2194 - val_accuracy: 0.9241 - 121s/epoch - 473ms/step\n",
      "Epoch 47/150\n",
      "256/256 - 135s - loss: 0.3336 - accuracy: 0.8926 - val_loss: 0.2261 - val_accuracy: 0.9219 - 135s/epoch - 529ms/step\n",
      "Epoch 48/150\n",
      "256/256 - 111s - loss: 0.3241 - accuracy: 0.8953 - val_loss: 0.2402 - val_accuracy: 0.9158 - 111s/epoch - 435ms/step\n",
      "Epoch 49/150\n",
      "256/256 - 120s - loss: 0.3166 - accuracy: 0.8977 - val_loss: 0.2167 - val_accuracy: 0.9277 - 120s/epoch - 469ms/step\n",
      "Epoch 50/150\n",
      "256/256 - 141s - loss: 0.3177 - accuracy: 0.8970 - val_loss: 0.2199 - val_accuracy: 0.9239 - 141s/epoch - 549ms/step\n",
      "Epoch 51/150\n",
      "256/256 - 131s - loss: 0.3108 - accuracy: 0.8988 - val_loss: 0.2202 - val_accuracy: 0.9269 - 131s/epoch - 512ms/step\n",
      "Epoch 52/150\n",
      "256/256 - 145s - loss: 0.3090 - accuracy: 0.8991 - val_loss: 0.2178 - val_accuracy: 0.9294 - 145s/epoch - 565ms/step\n",
      "Epoch 53/150\n",
      "256/256 - 221s - loss: 0.3060 - accuracy: 0.9023 - val_loss: 0.2269 - val_accuracy: 0.9219 - 221s/epoch - 862ms/step\n",
      "Epoch 54/150\n",
      "256/256 - 138s - loss: 0.3015 - accuracy: 0.9002 - val_loss: 0.2180 - val_accuracy: 0.9239 - 138s/epoch - 538ms/step\n",
      "Epoch 55/150\n",
      "256/256 - 109s - loss: 0.3013 - accuracy: 0.9029 - val_loss: 0.2165 - val_accuracy: 0.9269 - 109s/epoch - 428ms/step\n",
      "Epoch 56/150\n",
      "256/256 - 117s - loss: 0.2996 - accuracy: 0.9024 - val_loss: 0.2402 - val_accuracy: 0.9180 - 117s/epoch - 458ms/step\n",
      "Epoch 57/150\n",
      "256/256 - 121s - loss: 0.3001 - accuracy: 0.9030 - val_loss: 0.2224 - val_accuracy: 0.9256 - 121s/epoch - 473ms/step\n",
      "Epoch 58/150\n",
      "256/256 - 117s - loss: 0.2946 - accuracy: 0.9044 - val_loss: 0.2093 - val_accuracy: 0.9297 - 117s/epoch - 458ms/step\n",
      "Epoch 59/150\n",
      "256/256 - 118s - loss: 0.2941 - accuracy: 0.9036 - val_loss: 0.2140 - val_accuracy: 0.9308 - 118s/epoch - 461ms/step\n",
      "Epoch 60/150\n",
      "256/256 - 1157s - loss: 0.2924 - accuracy: 0.9047 - val_loss: 0.2155 - val_accuracy: 0.9277 - 1157s/epoch - 5s/step\n",
      "Epoch 61/150\n",
      "256/256 - 1162s - loss: 0.2888 - accuracy: 0.9064 - val_loss: 0.2261 - val_accuracy: 0.9233 - 1162s/epoch - 5s/step\n",
      "Epoch 62/150\n",
      "256/256 - 664s - loss: 0.2848 - accuracy: 0.9073 - val_loss: 0.2192 - val_accuracy: 0.9262 - 664s/epoch - 3s/step\n",
      "Epoch 63/150\n",
      "256/256 - 641s - loss: 0.2874 - accuracy: 0.9070 - val_loss: 0.2261 - val_accuracy: 0.9233 - 641s/epoch - 3s/step\n",
      "Epoch 64/150\n",
      "256/256 - 70s - loss: 0.2785 - accuracy: 0.9093 - val_loss: 0.2178 - val_accuracy: 0.9256 - 70s/epoch - 272ms/step\n",
      "Epoch 65/150\n",
      "256/256 - 91s - loss: 0.2734 - accuracy: 0.9106 - val_loss: 0.2119 - val_accuracy: 0.9295 - 91s/epoch - 355ms/step\n",
      "Epoch 66/150\n",
      "256/256 - 109s - loss: 0.2743 - accuracy: 0.9116 - val_loss: 0.2175 - val_accuracy: 0.9278 - 109s/epoch - 424ms/step\n",
      "Epoch 67/150\n",
      "256/256 - 103s - loss: 0.2723 - accuracy: 0.9116 - val_loss: 0.2160 - val_accuracy: 0.9273 - 103s/epoch - 403ms/step\n",
      "Epoch 68/150\n",
      "256/256 - 106s - loss: 0.2659 - accuracy: 0.9152 - val_loss: 0.2212 - val_accuracy: 0.9273 - 106s/epoch - 414ms/step\n",
      "Epoch 69/150\n",
      "256/256 - 100s - loss: 0.2648 - accuracy: 0.9130 - val_loss: 0.2145 - val_accuracy: 0.9266 - 100s/epoch - 391ms/step\n",
      "Epoch 70/150\n",
      "256/256 - 105s - loss: 0.2645 - accuracy: 0.9125 - val_loss: 0.2094 - val_accuracy: 0.9292 - 105s/epoch - 409ms/step\n",
      "Epoch 71/150\n",
      "256/256 - 115s - loss: 0.2687 - accuracy: 0.9118 - val_loss: 0.2151 - val_accuracy: 0.9281 - 115s/epoch - 451ms/step\n",
      "Epoch 72/150\n",
      "256/256 - 121s - loss: 0.2583 - accuracy: 0.9145 - val_loss: 0.2050 - val_accuracy: 0.9309 - 121s/epoch - 473ms/step\n",
      "Epoch 73/150\n",
      "256/256 - 131s - loss: 0.2585 - accuracy: 0.9132 - val_loss: 0.2162 - val_accuracy: 0.9275 - 131s/epoch - 512ms/step\n",
      "Epoch 74/150\n",
      "256/256 - 121s - loss: 0.2555 - accuracy: 0.9161 - val_loss: 0.2161 - val_accuracy: 0.9261 - 121s/epoch - 471ms/step\n",
      "Epoch 75/150\n",
      "256/256 - 129s - loss: 0.2557 - accuracy: 0.9159 - val_loss: 0.2183 - val_accuracy: 0.9278 - 129s/epoch - 503ms/step\n",
      "Epoch 76/150\n",
      "256/256 - 128s - loss: 0.2572 - accuracy: 0.9138 - val_loss: 0.2101 - val_accuracy: 0.9287 - 128s/epoch - 499ms/step\n",
      "Epoch 77/150\n",
      "256/256 - 150s - loss: 0.2556 - accuracy: 0.9171 - val_loss: 0.2084 - val_accuracy: 0.9306 - 150s/epoch - 585ms/step\n",
      "Epoch 78/150\n",
      "256/256 - 148s - loss: 0.2521 - accuracy: 0.9163 - val_loss: 0.2171 - val_accuracy: 0.9306 - 148s/epoch - 577ms/step\n",
      "Epoch 79/150\n",
      "256/256 - 145s - loss: 0.2490 - accuracy: 0.9187 - val_loss: 0.2180 - val_accuracy: 0.9295 - 145s/epoch - 568ms/step\n",
      "Epoch 80/150\n",
      "256/256 - 133s - loss: 0.2442 - accuracy: 0.9201 - val_loss: 0.2059 - val_accuracy: 0.9314 - 133s/epoch - 521ms/step\n",
      "Epoch 81/150\n",
      "256/256 - 127s - loss: 0.2453 - accuracy: 0.9171 - val_loss: 0.2149 - val_accuracy: 0.9298 - 127s/epoch - 495ms/step\n",
      "Epoch 82/150\n",
      "256/256 - 120s - loss: 0.2391 - accuracy: 0.9224 - val_loss: 0.2105 - val_accuracy: 0.9302 - 120s/epoch - 469ms/step\n",
      "Epoch 83/150\n",
      "256/256 - 102s - loss: 0.2395 - accuracy: 0.9213 - val_loss: 0.2085 - val_accuracy: 0.9348 - 102s/epoch - 400ms/step\n",
      "Epoch 84/150\n",
      "256/256 - 85s - loss: 0.2377 - accuracy: 0.9215 - val_loss: 0.2146 - val_accuracy: 0.9278 - 85s/epoch - 331ms/step\n",
      "Epoch 85/150\n",
      "256/256 - 85s - loss: 0.2371 - accuracy: 0.9226 - val_loss: 0.2183 - val_accuracy: 0.9322 - 85s/epoch - 332ms/step\n",
      "Epoch 86/150\n",
      "256/256 - 90s - loss: 0.2350 - accuracy: 0.9205 - val_loss: 0.2082 - val_accuracy: 0.9333 - 90s/epoch - 353ms/step\n",
      "Epoch 87/150\n",
      "256/256 - 87s - loss: 0.2326 - accuracy: 0.9228 - val_loss: 0.2170 - val_accuracy: 0.9291 - 87s/epoch - 341ms/step\n",
      "Epoch 88/150\n",
      "256/256 - 90s - loss: 0.2328 - accuracy: 0.9206 - val_loss: 0.2112 - val_accuracy: 0.9337 - 90s/epoch - 351ms/step\n",
      "Epoch 89/150\n",
      "256/256 - 88s - loss: 0.2316 - accuracy: 0.9240 - val_loss: 0.2100 - val_accuracy: 0.9316 - 88s/epoch - 346ms/step\n",
      "Epoch 90/150\n",
      "256/256 - 83s - loss: 0.2239 - accuracy: 0.9254 - val_loss: 0.2144 - val_accuracy: 0.9312 - 83s/epoch - 326ms/step\n",
      "Epoch 91/150\n",
      "256/256 - 85s - loss: 0.2251 - accuracy: 0.9269 - val_loss: 0.2236 - val_accuracy: 0.9306 - 85s/epoch - 331ms/step\n",
      "Epoch 92/150\n",
      "256/256 - 84s - loss: 0.2245 - accuracy: 0.9265 - val_loss: 0.2117 - val_accuracy: 0.9322 - 84s/epoch - 327ms/step\n",
      "Epoch 93/150\n",
      "256/256 - 83s - loss: 0.2251 - accuracy: 0.9251 - val_loss: 0.2107 - val_accuracy: 0.9322 - 83s/epoch - 325ms/step\n",
      "Epoch 94/150\n",
      "256/256 - 83s - loss: 0.2217 - accuracy: 0.9277 - val_loss: 0.2119 - val_accuracy: 0.9328 - 83s/epoch - 324ms/step\n",
      "Epoch 95/150\n",
      "256/256 - 83s - loss: 0.2197 - accuracy: 0.9271 - val_loss: 0.2184 - val_accuracy: 0.9323 - 83s/epoch - 325ms/step\n",
      "Epoch 96/150\n",
      "256/256 - 81s - loss: 0.2242 - accuracy: 0.9270 - val_loss: 0.2042 - val_accuracy: 0.9348 - 81s/epoch - 318ms/step\n",
      "Epoch 97/150\n",
      "256/256 - 76s - loss: 0.2209 - accuracy: 0.9281 - val_loss: 0.2107 - val_accuracy: 0.9320 - 76s/epoch - 295ms/step\n",
      "Epoch 98/150\n",
      "256/256 - 69s - loss: 0.2104 - accuracy: 0.9297 - val_loss: 0.2211 - val_accuracy: 0.9334 - 69s/epoch - 270ms/step\n",
      "Epoch 99/150\n",
      "256/256 - 68s - loss: 0.2162 - accuracy: 0.9280 - val_loss: 0.2355 - val_accuracy: 0.9291 - 68s/epoch - 267ms/step\n",
      "Epoch 100/150\n",
      "256/256 - 69s - loss: 0.2097 - accuracy: 0.9309 - val_loss: 0.2085 - val_accuracy: 0.9356 - 69s/epoch - 268ms/step\n",
      "Epoch 101/150\n",
      "256/256 - 1242s - loss: 0.2096 - accuracy: 0.9299 - val_loss: 0.2152 - val_accuracy: 0.9328 - 1242s/epoch - 5s/step\n",
      "Epoch 102/150\n",
      "256/256 - 60s - loss: 0.2066 - accuracy: 0.9318 - val_loss: 0.2150 - val_accuracy: 0.9328 - 60s/epoch - 234ms/step\n",
      "Epoch 103/150\n",
      "256/256 - 1959s - loss: 0.2158 - accuracy: 0.9271 - val_loss: 0.2153 - val_accuracy: 0.9352 - 1959s/epoch - 8s/step\n",
      "Epoch 104/150\n",
      "256/256 - 1015s - loss: 0.2081 - accuracy: 0.9305 - val_loss: 0.2118 - val_accuracy: 0.9350 - 1015s/epoch - 4s/step\n",
      "Epoch 105/150\n",
      "256/256 - 1011s - loss: 0.2039 - accuracy: 0.9309 - val_loss: 0.2147 - val_accuracy: 0.9322 - 1011s/epoch - 4s/step\n",
      "Epoch 106/150\n",
      "256/256 - 64s - loss: 0.2047 - accuracy: 0.9325 - val_loss: 0.2197 - val_accuracy: 0.9311 - 64s/epoch - 249ms/step\n",
      "Epoch 107/150\n",
      "256/256 - 66s - loss: 0.2025 - accuracy: 0.9316 - val_loss: 0.2219 - val_accuracy: 0.9295 - 66s/epoch - 256ms/step\n",
      "Epoch 108/150\n",
      "256/256 - 66s - loss: 0.1988 - accuracy: 0.9339 - val_loss: 0.2233 - val_accuracy: 0.9320 - 66s/epoch - 259ms/step\n",
      "Epoch 109/150\n",
      "256/256 - 87s - loss: 0.1948 - accuracy: 0.9341 - val_loss: 0.2224 - val_accuracy: 0.9339 - 87s/epoch - 339ms/step\n",
      "Epoch 110/150\n",
      "256/256 - 102s - loss: 0.2004 - accuracy: 0.9319 - val_loss: 0.2180 - val_accuracy: 0.9325 - 102s/epoch - 399ms/step\n",
      "Epoch 111/150\n",
      "256/256 - 1047s - loss: 0.2024 - accuracy: 0.9328 - val_loss: 0.2472 - val_accuracy: 0.9256 - 1047s/epoch - 4s/step\n",
      "Epoch 112/150\n",
      "256/256 - 1815s - loss: 0.1991 - accuracy: 0.9337 - val_loss: 0.2216 - val_accuracy: 0.9317 - 1815s/epoch - 7s/step\n",
      "Epoch 113/150\n",
      "256/256 - 1007s - loss: 0.1940 - accuracy: 0.9330 - val_loss: 0.2220 - val_accuracy: 0.9312 - 1007s/epoch - 4s/step\n",
      "Epoch 114/150\n",
      "256/256 - 59s - loss: 0.1952 - accuracy: 0.9330 - val_loss: 0.2247 - val_accuracy: 0.9312 - 59s/epoch - 231ms/step\n",
      "Epoch 115/150\n",
      "256/256 - 1020s - loss: 0.1909 - accuracy: 0.9349 - val_loss: 0.2292 - val_accuracy: 0.9333 - 1020s/epoch - 4s/step\n",
      "Epoch 116/150\n",
      "256/256 - 972s - loss: 0.1875 - accuracy: 0.9383 - val_loss: 0.2330 - val_accuracy: 0.9297 - 972s/epoch - 4s/step\n",
      "Epoch 117/150\n",
      "256/256 - 1008s - loss: 0.1857 - accuracy: 0.9369 - val_loss: 0.2382 - val_accuracy: 0.9305 - 1008s/epoch - 4s/step\n",
      "Epoch 118/150\n",
      "256/256 - 57s - loss: 0.1833 - accuracy: 0.9379 - val_loss: 0.2334 - val_accuracy: 0.9298 - 57s/epoch - 222ms/step\n",
      "Epoch 119/150\n",
      "256/256 - 60s - loss: 0.1930 - accuracy: 0.9333 - val_loss: 0.2244 - val_accuracy: 0.9344 - 60s/epoch - 233ms/step\n",
      "Epoch 120/150\n",
      "256/256 - 1021s - loss: 0.1903 - accuracy: 0.9366 - val_loss: 0.2239 - val_accuracy: 0.9353 - 1021s/epoch - 4s/step\n",
      "Epoch 121/150\n",
      "256/256 - 1004s - loss: 0.1864 - accuracy: 0.9369 - val_loss: 0.2263 - val_accuracy: 0.9322 - 1004s/epoch - 4s/step\n",
      "Epoch 122/150\n",
      "256/256 - 1904s - loss: 0.1842 - accuracy: 0.9380 - val_loss: 0.2230 - val_accuracy: 0.9327 - 1904s/epoch - 7s/step\n",
      "Epoch 123/150\n",
      "256/256 - 1034s - loss: 0.1876 - accuracy: 0.9359 - val_loss: 0.2357 - val_accuracy: 0.9303 - 1034s/epoch - 4s/step\n",
      "Epoch 124/150\n",
      "256/256 - 1010s - loss: 0.1804 - accuracy: 0.9373 - val_loss: 0.2233 - val_accuracy: 0.9323 - 1010s/epoch - 4s/step\n",
      "Epoch 125/150\n",
      "256/256 - 1080s - loss: 0.1731 - accuracy: 0.9417 - val_loss: 0.2359 - val_accuracy: 0.9312 - 1080s/epoch - 4s/step\n",
      "Epoch 126/150\n",
      "256/256 - 979s - loss: 0.1788 - accuracy: 0.9384 - val_loss: 0.2269 - val_accuracy: 0.9344 - 979s/epoch - 4s/step\n",
      "Epoch 127/150\n",
      "256/256 - 1004s - loss: 0.1747 - accuracy: 0.9404 - val_loss: 0.2422 - val_accuracy: 0.9311 - 1004s/epoch - 4s/step\n",
      "Epoch 128/150\n",
      "256/256 - 63s - loss: 0.1704 - accuracy: 0.9419 - val_loss: 0.2283 - val_accuracy: 0.9359 - 63s/epoch - 246ms/step\n",
      "Epoch 129/150\n",
      "256/256 - 1956s - loss: 0.1738 - accuracy: 0.9419 - val_loss: 0.2274 - val_accuracy: 0.9353 - 1956s/epoch - 8s/step\n",
      "Epoch 130/150\n",
      "256/256 - 989s - loss: 0.1749 - accuracy: 0.9402 - val_loss: 0.2373 - val_accuracy: 0.9325 - 989s/epoch - 4s/step\n",
      "Epoch 131/150\n",
      "256/256 - 962s - loss: 0.1717 - accuracy: 0.9427 - val_loss: 0.2332 - val_accuracy: 0.9312 - 962s/epoch - 4s/step\n",
      "Epoch 132/150\n",
      "256/256 - 982s - loss: 0.1646 - accuracy: 0.9432 - val_loss: 0.2292 - val_accuracy: 0.9334 - 982s/epoch - 4s/step\n",
      "Epoch 133/150\n",
      "256/256 - 354s - loss: 0.1688 - accuracy: 0.9435 - val_loss: 0.2453 - val_accuracy: 0.9297 - 354s/epoch - 1s/step\n",
      "Epoch 134/150\n",
      "256/256 - 352s - loss: 0.1666 - accuracy: 0.9413 - val_loss: 0.2384 - val_accuracy: 0.9344 - 352s/epoch - 1s/step\n",
      "Epoch 135/150\n",
      "256/256 - 358s - loss: 0.1666 - accuracy: 0.9428 - val_loss: 0.2498 - val_accuracy: 0.9302 - 358s/epoch - 1s/step\n",
      "Epoch 136/150\n",
      "256/256 - 316s - loss: 0.1697 - accuracy: 0.9415 - val_loss: 0.2370 - val_accuracy: 0.9328 - 316s/epoch - 1s/step\n",
      "Epoch 137/150\n",
      "256/256 - 654s - loss: 0.1726 - accuracy: 0.9435 - val_loss: 0.2448 - val_accuracy: 0.9314 - 654s/epoch - 3s/step\n",
      "Epoch 138/150\n",
      "256/256 - 353s - loss: 0.1670 - accuracy: 0.9430 - val_loss: 0.2341 - val_accuracy: 0.9345 - 353s/epoch - 1s/step\n",
      "Epoch 139/150\n",
      "256/256 - 354s - loss: 0.1607 - accuracy: 0.9450 - val_loss: 0.2320 - val_accuracy: 0.9348 - 354s/epoch - 1s/step\n",
      "Epoch 140/150\n",
      "256/256 - 354s - loss: 0.1630 - accuracy: 0.9454 - val_loss: 0.2498 - val_accuracy: 0.9298 - 354s/epoch - 1s/step\n",
      "Epoch 141/150\n",
      "256/256 - 357s - loss: 0.1642 - accuracy: 0.9426 - val_loss: 0.2427 - val_accuracy: 0.9330 - 357s/epoch - 1s/step\n",
      "Epoch 142/150\n",
      "256/256 - 653s - loss: 0.1569 - accuracy: 0.9463 - val_loss: 0.2341 - val_accuracy: 0.9361 - 653s/epoch - 3s/step\n",
      "Epoch 143/150\n",
      "256/256 - 353s - loss: 0.1586 - accuracy: 0.9442 - val_loss: 0.2319 - val_accuracy: 0.9339 - 353s/epoch - 1s/step\n",
      "Epoch 144/150\n",
      "256/256 - 357s - loss: 0.1580 - accuracy: 0.9465 - val_loss: 0.2332 - val_accuracy: 0.9359 - 357s/epoch - 1s/step\n",
      "Epoch 145/150\n",
      "256/256 - 354s - loss: 0.1635 - accuracy: 0.9437 - val_loss: 0.2443 - val_accuracy: 0.9358 - 354s/epoch - 1s/step\n",
      "Epoch 146/150\n",
      "256/256 - 355s - loss: 0.1543 - accuracy: 0.9465 - val_loss: 0.2438 - val_accuracy: 0.9320 - 355s/epoch - 1s/step\n",
      "Epoch 147/150\n",
      "256/256 - 356s - loss: 0.1483 - accuracy: 0.9475 - val_loss: 0.2561 - val_accuracy: 0.9311 - 356s/epoch - 1s/step\n",
      "Epoch 148/150\n",
      "256/256 - 354s - loss: 0.1530 - accuracy: 0.9479 - val_loss: 0.2622 - val_accuracy: 0.9277 - 354s/epoch - 1s/step\n",
      "Epoch 149/150\n",
      "256/256 - 353s - loss: 0.1544 - accuracy: 0.9484 - val_loss: 0.2529 - val_accuracy: 0.9314 - 353s/epoch - 1s/step\n",
      "Epoch 150/150\n",
      "256/256 - 654s - loss: 0.1525 - accuracy: 0.9459 - val_loss: 0.2477 - val_accuracy: 0.9319 - 654s/epoch - 3s/step\n",
      "Tiempo de entrenamiento (segs): 49809.80\n"
     ]
    }
   ],
   "source": [
    "# tiempo de inicio\n",
    "t1=time.time()\n",
    "# entrenamos el modelo\n",
    "H = model.fit(x_train, y_train,  \n",
    "               validation_data=(x_validation, y_validation), \n",
    "               batch_size=n_batch,   \n",
    "               epochs=n_epochs,     \n",
    "               verbose=2) \n",
    "# tiempo de terminación\n",
    "t2=time.time()\n",
    "ttff=\"{:.2f}\".format(t2-t1)\n",
    "print(\"Tiempo de entrenamiento (segs): \" + str(ttff)) "
   ]
  },
  {
   "cell_type": "code",
   "execution_count": 25,
   "metadata": {},
   "outputs": [
    {
     "data": {
      "image/png": "[encoded data removed]",
      "text/plain": [
       "<Figure size 640x480 with 1 Axes>"
      ]
     },
     "metadata": {},
     "output_type": "display_data"
    },
    {
     "data": {
      "image/png": "[encoded data removed]",
      "text/plain": [
       "<Figure size 640x480 with 1 Axes>"
      ]
     },
     "metadata": {},
     "output_type": "display_data"
    }
   ],
   "source": [
    "# Gráficas del historial de entrenamiento y validación:\n",
    "plt.style.use(\"ggplot\")\n",
    "plt.figure()\n",
    "plt.plot(np.arange(0,n_epochs),H.history[\"accuracy\"],label=\"train_acc\")\n",
    "plt.plot(np.arange(0,n_epochs),H.history[\"val_accuracy\"],label=\"val_acc\")\n",
    "plt.title(\"Dropout + 3-bloques CNN: \\n train_size=\" + str(train_size) + \n",
    "          \", test_size=\" + str(test_size) + \", total time=\" + str(ttff))      \n",
    "plt.xlabel(\"Epoch\")\n",
    "plt.ylabel(\"Accuracy\")\n",
    "plt.legend()\n",
    "\n",
    "plt.figure()\n",
    "\n",
    "plt.plot(np.arange(0,n_epochs),H.history[\"loss\"],label=\"train_loss\") \n",
    "plt.plot(np.arange(0,n_epochs),H.history[\"val_loss\"],label=\"val_loss\")\n",
    "plt.title(\"Train / Valid Loss\\n learn_rate=\" + str(lrate) + \n",
    "          \", n_epochs=\" + str(n_epochs) + \", n_batch=\" + str(n_batch))\n",
    "plt.xlabel(\"Epoch\")\n",
    "plt.ylabel(\"Loss\")\n",
    "plt.legend()\n",
    "\n",
    "plt.show()\n",
    "\n",
    "#plt.savefig('plot06.png')"
   ]
  },
  {
   "cell_type": "code",
   "execution_count": 14,
   "metadata": {},
   "outputs": [
    {
     "name": "stdout",
     "output_type": "stream",
     "text": [
      "64/64 [==============================] - 5s 62ms/step\n",
      "                     precision    recall  f1-score   support\n",
      "\n",
      "       Camiseta/Top       0.91      0.86      0.88       688\n",
      "           Pantalón       0.99      0.98      0.99       680\n",
      "             Suéter       0.94      0.88      0.91       626\n",
      "            Vestido       0.92      0.94      0.93       668\n",
      "             Abrigo       0.87      0.90      0.88       576\n",
      "           Sandalia       0.99      0.99      0.99       586\n",
      "             Camisa       0.78      0.85      0.81       643\n",
      "Zapatilla deportiva       0.96      0.98      0.97       642\n",
      "              Bolso       0.99      0.98      0.99       643\n",
      "    Bota de tobillo       0.98      0.97      0.98       648\n",
      "\n",
      "           accuracy                           0.93      6400\n",
      "          macro avg       0.93      0.93      0.93      6400\n",
      "       weighted avg       0.93      0.93      0.93      6400\n",
      "\n"
     ]
    }
   ],
   "source": [
    "# Etiquetas de las categorías de imágenes\n",
    "labels = [\"Camiseta/Top\", \"Pantalón\", \"Suéter\", \"Vestido\", \"Abrigo\", \"Sandalia\", \"Camisa\", \"Zapatilla deportiva\", \"Bolso\", \"Bota de tobillo\"]\n",
    "\n",
    "# estadísticas de desempeño de la red\n",
    "predictions = model.predict(x_validation, batch_size=n_batch)\n",
    "print(classification_report(y_validation.argmax(axis=1), \n",
    "      predictions.argmax(axis=1),target_names=labels))"
   ]
  },
  {
   "cell_type": "code",
   "execution_count": 27,
   "metadata": {},
   "outputs": [
    {
     "name": "stdout",
     "output_type": "stream",
     "text": [
      "                     precision    recall  f1-score      support\n",
      "Camiseta/Top          0.907550  0.856105  0.881077   688.000000\n",
      "Pantalón              0.991098  0.982353  0.986706   680.000000\n",
      "Suéter                0.943299  0.876997  0.908940   626.000000\n",
      "Vestido               0.924556  0.935629  0.930060   668.000000\n",
      "Abrigo                0.866667  0.902778  0.884354   576.000000\n",
      "Sandalia              0.989744  0.988055  0.988898   586.000000\n",
      "Camisa                0.776204  0.852255  0.812454   643.000000\n",
      "Zapatilla deportiva   0.964561  0.975078  0.969791   642.000000\n",
      "Bolso                 0.990581  0.981337  0.985938   643.000000\n",
      "Bota de tobillo       0.979751  0.970679  0.975194   648.000000\n",
      "accuracy              0.931875  0.931875  0.931875     0.931875\n",
      "macro avg             0.933401  0.932126  0.932341  6400.000000\n",
      "weighted avg          0.933720  0.931875  0.932374  6400.000000\n"
     ]
    }
   ],
   "source": [
    "classification_report_dict = classification_report(y_validation.argmax(axis=1), predictions.argmax(axis=1), target_names=labels, output_dict=True)\n",
    "\n",
    "# Convierte el diccionario en un DataFrame\n",
    "df_classification_report = pd.DataFrame(classification_report_dict).transpose()\n",
    "\n",
    "# Si deseas guardar el DataFrame en un archivo CSV\n",
    "df_classification_report.to_csv('classification_report.csv')\n",
    "\n",
    "# Imprime el DataFrame\n",
    "print(df_classification_report)"
   ]
  },
  {
   "cell_type": "code",
   "execution_count": 15,
   "metadata": {},
   "outputs": [
    {
     "data": {
      "text/plain": [
       "array([[589,   0,   9,  11,   3,   0,  74,   0,   2,   0],\n",
       "       [  0, 668,   0,   9,   1,   0,   2,   0,   0,   0],\n",
       "       [  8,   0, 549,   3,  35,   0,  31,   0,   0,   0],\n",
       "       [ 10,   5,   2, 625,  14,   0,  12,   0,   0,   0],\n",
       "       [  0,   0,   8,  14, 520,   0,  33,   0,   1,   0],\n",
       "       [  0,   0,   0,   0,   0, 579,   0,   5,   0,   2],\n",
       "       [ 41,   1,  13,  12,  26,   0, 548,   0,   2,   0],\n",
       "       [  0,   0,   0,   0,   0,   5,   0, 626,   0,  11],\n",
       "       [  1,   0,   1,   2,   1,   0,   6,   1, 631,   0],\n",
       "       [  0,   0,   0,   0,   0,   1,   0,  17,   1, 629]])"
      ]
     },
     "execution_count": 15,
     "metadata": {},
     "output_type": "execute_result"
    }
   ],
   "source": [
    "# Matriz de confusión\n",
    "confusion_matrix(y_validation.argmax(axis=1), predictions.argmax(axis=1))"
   ]
  },
  {
   "cell_type": "code",
   "execution_count": 31,
   "metadata": {},
   "outputs": [
    {
     "name": "stdout",
     "output_type": "stream",
     "text": [
      "Model: \"sequential_1\"\n",
      "_________________________________________________________________\n",
      " Layer (type)                Output Shape              Param #   \n",
      "=================================================================\n",
      " conv2d_6 (Conv2D)           (None, 28, 28, 32)        320       \n",
      "                                                                 \n",
      " batch_normalization_7 (Batc  (None, 28, 28, 32)       128       \n",
      " hNormalization)                                                 \n",
      "                                                                 \n",
      " conv2d_7 (Conv2D)           (None, 28, 28, 32)        9248      \n",
      "                                                                 \n",
      " batch_normalization_8 (Batc  (None, 28, 28, 32)       128       \n",
      " hNormalization)                                                 \n",
      "                                                                 \n",
      " max_pooling2d_3 (MaxPooling  (None, 14, 14, 32)       0         \n",
      " 2D)                                                             \n",
      "                                                                 \n",
      " dropout_4 (Dropout)         (None, 14, 14, 32)        0         \n",
      "                                                                 \n",
      " conv2d_8 (Conv2D)           (None, 14, 14, 64)        18496     \n",
      "                                                                 \n",
      " batch_normalization_9 (Batc  (None, 14, 14, 64)       256       \n",
      " hNormalization)                                                 \n",
      "                                                                 \n",
      " conv2d_9 (Conv2D)           (None, 14, 14, 64)        36928     \n",
      "                                                                 \n",
      " batch_normalization_10 (Bat  (None, 14, 14, 64)       256       \n",
      " chNormalization)                                                \n",
      "                                                                 \n",
      " max_pooling2d_4 (MaxPooling  (None, 7, 7, 64)         0         \n",
      " 2D)                                                             \n",
      "                                                                 \n",
      " dropout_5 (Dropout)         (None, 7, 7, 64)          0         \n",
      "                                                                 \n",
      " conv2d_10 (Conv2D)          (None, 7, 7, 128)         73856     \n",
      "                                                                 \n",
      " batch_normalization_11 (Bat  (None, 7, 7, 128)        512       \n",
      " chNormalization)                                                \n",
      "                                                                 \n",
      " conv2d_11 (Conv2D)          (None, 7, 7, 128)         147584    \n",
      "                                                                 \n",
      " batch_normalization_12 (Bat  (None, 7, 7, 128)        512       \n",
      " chNormalization)                                                \n",
      "                                                                 \n",
      " max_pooling2d_5 (MaxPooling  (None, 3, 3, 128)        0         \n",
      " 2D)                                                             \n",
      "                                                                 \n",
      " dropout_6 (Dropout)         (None, 3, 3, 128)         0         \n",
      "                                                                 \n",
      " flatten_1 (Flatten)         (None, 1152)              0         \n",
      "                                                                 \n",
      " dense_2 (Dense)             (None, 16)                18448     \n",
      "                                                                 \n",
      " batch_normalization_13 (Bat  (None, 16)               64        \n",
      " chNormalization)                                                \n",
      "                                                                 \n",
      " dropout_7 (Dropout)         (None, 16)                0         \n",
      "                                                                 \n",
      " dense_3 (Dense)             (None, 10)                170       \n",
      "                                                                 \n",
      "=================================================================\n",
      "Total params: 306,906\n",
      "Trainable params: 305,978\n",
      "Non-trainable params: 928\n",
      "_________________________________________________________________\n"
     ]
    }
   ],
   "source": [
    "# Arquitectura de la red\n",
    "model.summary()"
   ]
  }
 ],
 "metadata": {
  "kernelspec": {
   "display_name": "redes",
   "language": "python",
   "name": "python3"
  },
  "language_info": {
   "codemirror_mode": {
    "name": "ipython",
    "version": 3
   },
   "file_extension": ".py",
   "mimetype": "text/x-python",
   "name": "python",
   "nbconvert_exporter": "python",
   "pygments_lexer": "ipython3",
   "version": "3.11.4"
  },
  "orig_nbformat": 4
 },
 "nbformat": 4,
 "nbformat_minor": 2
}
